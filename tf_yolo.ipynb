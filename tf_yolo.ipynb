{
 "cells": [
  {
   "cell_type": "code",
   "execution_count": null,
   "metadata": {},
   "outputs": [],
   "source": [
    "import tensorflow as tf\n",
    "import numpy as np\n",
    "import os\n",
    "import glob\n",
    "import matplotlib.pyplot as plt\n",
    "import matplotlib.image as mpimg\n",
    "\n",
    "from tensorflow.keras.layers import Conv2D, Input, BatchNormalization, LeakyReLU, ZeroPadding2D, UpSampling2D, Concatenate\n",
    "from tensorflow.keras.models import Model"
   ]
  },
  {
   "attachments": {},
   "cell_type": "markdown",
   "metadata": {},
   "source": [
    "YOLOv3는 3개의 scale을 가지는 feature map을 통해 object detection을 수행합니다. 각 scale에서는 3개의 anchor box를 사용하므로 총 9개의 anchor box를 사용합니다. 먼저, 입력 이미지를 416x416 크기로 resize한 후에, Darknet-53 네트워크를 통과시켜 feature map을 추출합니다. 이후, 추출된 feature map을 이용하여 object detection을 수행합니다."
   ]
  },
  {
   "cell_type": "code",
   "execution_count": null,
   "metadata": {},
   "outputs": [],
   "source": [
    "# 원본 이미지가 들어갈 리스트 만들기\n",
    "images_originals = []\n",
    "\n",
    "# 원본 이미지가 저장된 폴더에서 하나씩 img 불러서 리스트에 담기\n",
    "for img in glob.glob('../Semi_Data/images/*.png') :\n",
    "    images_originals.append(mpimg.imread(img))\n",
    "\n",
    "annotation_file = []\n",
    "\n"
   ]
  },
  {
   "cell_type": "code",
   "execution_count": null,
   "metadata": {},
   "outputs": [],
   "source": [
    "def get_annotation_filename(image_filename):\n",
    "    return image_filename.replace('.jpg', '.txt').replace('.jpeg', '.txt')\n",
    "\n",
    "def read_annotation(annotation_filename):\n",
    "    with open(annotation_filename, 'r') as f:\n",
    "        lines = f.readlines()\n",
    "\n",
    "    objects = []\n",
    "    for line in lines:\n",
    "        parts = line.strip().split(' ')\n",
    "        class_id = int(parts[0])\n",
    "        x_center = float(parts[1])\n",
    "        y_center = float(parts[2])\n",
    "        width = float(parts[3])\n",
    "        height = float(parts[4])\n",
    "        objects.append({'class_id': class_id, 'x_center': x_center, 'y_center': y_center, 'width': width, 'height': height})\n",
    "\n",
    "    return objects\n",
    "\n",
    "\n",
    "def load_image_and_labels(image_filename):\n",
    "    # 이미지 파일 읽기\n",
    "    image = tf.io.read_file(image_filename)\n",
    "    image = tf.image.decode_jpeg(image, channels=3)\n",
    "    image = tf.image.convert_image_dtype(image, tf.float32)\n",
    "    \n",
    "    # 어노테이션 파일 읽기\n",
    "    annotation_filename = get_annotation_filename(image_filename)\n",
    "    labels = read_annotation(annotation_filename)\n",
    "    \n",
    "    return image, labels\n",
    "\n"
   ]
  },
  {
   "cell_type": "code",
   "execution_count": null,
   "metadata": {},
   "outputs": [],
   "source": [
    "# 1. 데이터 준비\n",
    "train_dataset = tf.data.Dataset.from_tensor_slices(train_filenames)\n",
    "train_dataset = train_dataset.map(load_image_and_labels)\n",
    "\n",
    "val_dataset = tf.data.Dataset.from_tensor_slices(val_filenames)\n",
    "val_dataset = val_dataset.map(load_image_and_labels)\n",
    "\n",
    "# 2. 모델 빌드\n",
    "model = build_yolov3_model()\n",
    "\n",
    "# 3. 모델 학습\n",
    "model.compile(optimizer=optimizer, loss=loss_fn)\n",
    "\n",
    "history = model.fit(train_dataset, epochs=num_epochs, validation_data=val_dataset)\n",
    "\n",
    "# 4. 모델 평가\n",
    "test_dataset = tf.data.Dataset.from_tensor_slices(test_filenames)\n",
    "test_dataset = test_dataset.map(load_image_and_labels)\n",
    "\n",
    "results = model.evaluate(test_dataset)\n",
    "\n",
    "# 5. 모델 추론\n",
    "image = load_image(image_path)\n",
    "image = tf.expand_dims(image, 0)\n",
    "pred = model.predict(image)\n",
    "boxes, scores, classes, num_detections = tf.split(pred, [4, 1, num_classes, 1], axis=-1)"
   ]
  }
 ],
 "metadata": {
  "kernelspec": {
   "display_name": "base",
   "language": "python",
   "name": "python3"
  },
  "language_info": {
   "codemirror_mode": {
    "name": "ipython",
    "version": 3
   },
   "file_extension": ".py",
   "mimetype": "text/x-python",
   "name": "python",
   "nbconvert_exporter": "python",
   "pygments_lexer": "ipython3",
   "version": "3.9.13"
  },
  "orig_nbformat": 4
 },
 "nbformat": 4,
 "nbformat_minor": 2
}
