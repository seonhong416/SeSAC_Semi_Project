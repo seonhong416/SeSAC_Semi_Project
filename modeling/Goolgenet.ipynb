{
 "cells": [
  {
   "cell_type": "code",
   "execution_count": 1,
   "metadata": {},
   "outputs": [],
   "source": [
    "from keras.layers import Input, Conv2D, MaxPooling2D, Dropout, BatchNormalization, Dense, Activation, add, Flatten, AveragePooling2D, concatenate\n",
    "from keras.models import Model\n",
    "\n",
    "from keras.preprocessing.image import ImageDataGenerator\n",
    "import numpy as np\n",
    "import tensorflow as tf\n",
    "from keras.utils import np_utils\n",
    "import pandas as pd\n",
    "import glob\n",
    "from PIL import Image\n",
    "import sys\n",
    "import os\n",
    "import matplotlib.pyplot as plt\n",
    "import cv2"
   ]
  },
  {
   "cell_type": "code",
   "execution_count": 2,
   "metadata": {},
   "outputs": [],
   "source": [
    "from tensorflow.keras.callbacks import ModelCheckpoint, EarlyStopping"
   ]
  },
  {
   "cell_type": "code",
   "execution_count": 3,
   "metadata": {},
   "outputs": [],
   "source": [
    "with_helmet_img = glob.glob('./new_helmet_augment/with_helmet_resize_128/with*.png')"
   ]
  },
  {
   "cell_type": "code",
   "execution_count": 4,
   "metadata": {},
   "outputs": [],
   "source": [
    "without_helmet_img = glob.glob('./new_helmet_augment/without_helmet_resize_128/with*.png')"
   ]
  },
  {
   "cell_type": "code",
   "execution_count": 5,
   "metadata": {},
   "outputs": [
    {
     "data": {
      "text/plain": [
       "10000"
      ]
     },
     "execution_count": 5,
     "metadata": {},
     "output_type": "execute_result"
    }
   ],
   "source": [
    "len(with_helmet_img)"
   ]
  },
  {
   "cell_type": "code",
   "execution_count": 6,
   "metadata": {},
   "outputs": [
    {
     "data": {
      "text/plain": [
       "10000"
      ]
     },
     "execution_count": 6,
     "metadata": {},
     "output_type": "execute_result"
    }
   ],
   "source": [
    "len(without_helmet_img)"
   ]
  },
  {
   "cell_type": "code",
   "execution_count": 7,
   "metadata": {},
   "outputs": [],
   "source": [
    "img_list = []\n",
    "\n",
    "for i in range(len(with_helmet_img)):\n",
    "    img = Image.open(with_helmet_img[i])\n",
    "    img_list.append(img.resize((80,80)))"
   ]
  },
  {
   "cell_type": "code",
   "execution_count": 8,
   "metadata": {},
   "outputs": [
    {
     "data": {
      "image/png": "[encoded data removed]",
      "text/plain": [
       "<PIL.Image.Image image mode=RGB size=80x80>"
      ]
     },
     "execution_count": 8,
     "metadata": {},
     "output_type": "execute_result"
    }
   ],
   "source": [
    "img_list[0]"
   ]
  },
  {
   "cell_type": "code",
   "execution_count": 9,
   "metadata": {},
   "outputs": [],
   "source": [
    "img_list2 = []\n",
    "\n",
    "for i in range(len(without_helmet_img)):\n",
    "    img = Image.open(without_helmet_img[i])\n",
    "    img_list2.append(img.resize((80,80)))"
   ]
  },
  {
   "cell_type": "code",
   "execution_count": 10,
   "metadata": {},
   "outputs": [
    {
     "data": {
      "text/plain": [
       "10000"
      ]
     },
     "execution_count": 10,
     "metadata": {},
     "output_type": "execute_result"
    }
   ],
   "source": [
    "len(img_list)"
   ]
  },
  {
   "cell_type": "code",
   "execution_count": 11,
   "metadata": {},
   "outputs": [
    {
     "data": {
      "text/plain": [
       "10000"
      ]
     },
     "execution_count": 11,
     "metadata": {},
     "output_type": "execute_result"
    }
   ],
   "source": [
    "len(img_list2)"
   ]
  },
  {
   "cell_type": "code",
   "execution_count": 12,
   "metadata": {},
   "outputs": [],
   "source": [
    "with_helmet_img = img_list\n",
    "without_helmet_img = img_list2"
   ]
  },
  {
   "cell_type": "code",
   "execution_count": 13,
   "metadata": {},
   "outputs": [],
   "source": [
    "train_data = with_helmet_img + without_helmet_img"
   ]
  },
  {
   "cell_type": "code",
   "execution_count": 14,
   "metadata": {},
   "outputs": [],
   "source": [
    "new_img_list = []\n",
    "\n",
    "for i in range(len(train_data)):\n",
    "    new_img_list.append(np.array(train_data[i]))\n",
    "\n",
    "train_data = np.array(new_img_list)"
   ]
  },
  {
   "cell_type": "code",
   "execution_count": 15,
   "metadata": {},
   "outputs": [
    {
     "data": {
      "text/plain": [
       "20000"
      ]
     },
     "execution_count": 15,
     "metadata": {},
     "output_type": "execute_result"
    }
   ],
   "source": [
    "len(train_data)"
   ]
  },
  {
   "cell_type": "code",
   "execution_count": 16,
   "metadata": {},
   "outputs": [
    {
     "data": {
      "text/plain": [
       "(20000, 80, 80, 3)"
      ]
     },
     "execution_count": 16,
     "metadata": {},
     "output_type": "execute_result"
    }
   ],
   "source": [
    "train_data.shape"
   ]
  },
  {
   "cell_type": "code",
   "execution_count": 17,
   "metadata": {},
   "outputs": [],
   "source": [
    "with_helmet_label = [1] * len(with_helmet_img)\n",
    "without_helmet_label = [0] * len(without_helmet_img)"
   ]
  },
  {
   "cell_type": "code",
   "execution_count": 18,
   "metadata": {},
   "outputs": [],
   "source": [
    "label_data = with_helmet_label + without_helmet_label"
   ]
  },
  {
   "cell_type": "code",
   "execution_count": 19,
   "metadata": {},
   "outputs": [],
   "source": [
    "label_data = np.array(label_data)"
   ]
  },
  {
   "cell_type": "code",
   "execution_count": 20,
   "metadata": {},
   "outputs": [],
   "source": [
    "from sklearn.model_selection import train_test_split\n",
    "\n",
    "x_train, x_test, y_train, y_test = train_test_split(train_data,label_data, random_state=7, test_size=0.2)"
   ]
  },
  {
   "cell_type": "code",
   "execution_count": 21,
   "metadata": {},
   "outputs": [],
   "source": [
    "x_train = x_train.astype('float32') / 255\n",
    "x_test = x_test.astype('float32') / 255"
   ]
  },
  {
   "cell_type": "code",
   "execution_count": 22,
   "metadata": {},
   "outputs": [],
   "source": [
    "def inception(x, filters): \n",
    "    pre_layer = x # input layer / previous layer / 이전 레이어\n",
    "    \n",
    "    f1,f2,f3,f4 = filters #filter 수의 숫자\n",
    "\n",
    "    # 1x1\n",
    "    conv1 = Conv2D(f1, kernel_size=(1,1), padding='same', activation='relu')(pre_layer)  #f1=64\n",
    "    \n",
    "    # 1x1 & 3x3  (functional API)\n",
    "    conv2 = Conv2D(f4  , kernel_size=(1,1), padding='same', activation='relu')(pre_layer)\n",
    "    conv2 = Conv2D(f2, kernel_size=(3,3), padding='same', activation='relu')(conv2)  #f2=128\n",
    "\n",
    "    # 1x1 & 5x5\n",
    "    conv3 = Conv2D(f4, kernel_size=(1,1), padding='same', activation='relu')(pre_layer)\n",
    "    conv3 = Conv2D(f3, kernel_size=(5,5), padding='same', activation='relu')(conv3)  #f3=32\n",
    "    \n",
    "    # pooling & 1x1\n",
    "    max_pool = MaxPooling2D(pool_size=(3,3), strides=1, padding='same')(pre_layer)\n",
    "    max_pool = Conv2D(f4, kernel_size=(1,1), padding='same')(max_pool)\n",
    "\n",
    "    # output = [None(batch_size), w(width),h(height),c(channel)], c 기준 concatenate (axis = -1 )\n",
    "    # concatenate() >>  적층, axis=-1 >> channel 기준으로 적층하겠다는 의미 \n",
    "    \n",
    "    concat = concatenate([conv1, conv2, conv3, max_pool], axis=-1) # 위에 주석 참고하기\n",
    "    \n",
    "    return concat"
   ]
  },
  {
   "cell_type": "code",
   "execution_count": null,
   "metadata": {},
   "outputs": [],
   "source": [
    "def googlenet():\n",
    "    input_shape = x_train[0].shape    \n",
    "    inputs = Input(shape=input_shape)\n",
    "\n",
    "    # conv랑 batch 사이에 max pooling 들어가야 하나, cifar 데이터에선 크기 너무 줄어들어서 뺐음\n",
    "    x = Conv2D(64, kernel_size=(7,7), strides=2, padding='same', activation='relu')(inputs)\n",
    "    x = BatchNormalization()(x)\n",
    "    x = Conv2D(192, kernel_size=(3,3), padding='same', activation='relu')(x)\n",
    "    x = BatchNormalization()(x) \n",
    "\n",
    "    #inception (input, [#1x1conv, #3x3conv, #5x5conv, #1x1reduction] )\n",
    "\n",
    "\n",
    "    # inception 3a\n",
    "    x = inception(x,[64,128,32,32])\n",
    "    # inception 3b\n",
    "    x = inception(x,[128,192,96,64])\n",
    "    x = MaxPooling2D(pool_size=(3,3), strides=2, padding='same')(x)\n",
    "\n",
    "    # inception 4a\n",
    "    x = inception(x,[192,208,48,64])\n",
    "    aux1 = AveragePooling2D(pool_size=(5,5),strides = 3, padding='valid')(x)\n",
    "    aux1 = Conv2D(128, kernel_size=(1,1), padding='same', activation='relu')(aux1)\n",
    "    aux1 = Flatten()(aux1)\n",
    "    aux1 = Dense(512, activation='relu')(aux1)  #512개 vector \n",
    "    aux1 = Dense(1, activation='sigmoid')(aux1) #cifar 10 data 10개 분류 \n",
    "\n",
    "    # inception 4b\n",
    "    x = inception(x,[160,224,64,64])\n",
    "\n",
    "\n",
    "    # inception 4c\n",
    "    x = inception(x,[128,256,64,64])\n",
    "    # inception 4d\n",
    "    x = inception(x,[112,288,64,64])\n",
    "    aux2 = AveragePooling2D(pool_size=(5,5),strides = 3, padding='valid')(x)\n",
    "    aux2 = Conv2D(128, kernel_size=(1,1), padding='same', activation='relu')(aux2)\n",
    "    aux2 = Flatten()(aux2)\n",
    "    aux2 = Dense(832, activation='relu')(aux2)\n",
    "    aux2 = Dense(1, activation='sigmoid')(aux2)\n",
    "    # loss 값이 얼마나 나왔는데 알기 위해 사용하는 기법\n",
    "\n",
    "\n",
    "    # inception 4e\n",
    "    x = inception(x,[256,320,128,128])\n",
    "\n",
    "\n",
    "    # inception 5a\n",
    "    x = inception(x,[256,320,128,128])\n",
    "    # inception 5b\n",
    "    x = inception(x,[384,384,128,128])\n",
    "    x = AveragePooling2D(pool_size=(4,4), padding='valid')(x)\n",
    "    x = Dropout(0.4)(x)\n",
    "    x = Flatten()(x)\n",
    "\n",
    "    outputs = Dense(1, activation='sigmoid')(x)\n",
    "    model = Model(inputs=inputs, outputs=[aux1, aux2, outputs])\n",
    "    \n",
    "    return model"
   ]
  },
  {
   "cell_type": "code",
   "execution_count": 23,
   "metadata": {},
   "outputs": [],
   "source": [
    "input_shape = x_train[0].shape    \n",
    "inputs = Input(shape=input_shape)\n",
    "\n",
    "# conv랑 batch 사이에 max pooling 들어가야 하나, cifar 데이터에선 크기 너무 줄어들어서 뺐음\n",
    "x = Conv2D(64, kernel_size=(7,7), strides=2, padding='same', activation='relu')(inputs)\n",
    "x = BatchNormalization()(x)\n",
    "x = Conv2D(192, kernel_size=(3,3), padding='same', activation='relu')(x)\n",
    "x = BatchNormalization()(x) \n",
    "\n",
    "#inception (input, [#1x1conv, #3x3conv, #5x5conv, #1x1reduction] )\n",
    "\n",
    "\n",
    "# inception 3a\n",
    "x = inception(x,[64,128,32,32])\n",
    "# inception 3b\n",
    "x = inception(x,[128,192,96,64])\n",
    "x = MaxPooling2D(pool_size=(3,3), strides=2, padding='same')(x)\n",
    "\n",
    "# inception 4a\n",
    "x = inception(x,[192,208,48,64])\n",
    "aux1 = AveragePooling2D(pool_size=(5,5),strides = 3, padding='valid')(x)\n",
    "aux1 = Conv2D(128, kernel_size=(1,1), padding='same', activation='relu')(aux1)\n",
    "aux1 = Flatten()(aux1)\n",
    "aux1 = Dense(512, activation='relu')(aux1)  #512개 vector \n",
    "aux1 = Dense(1, activation='sigmoid')(aux1) #cifar 10 data 10개 분류 \n",
    "\n",
    "# inception 4b\n",
    "x = inception(x,[160,224,64,64])\n",
    "\n",
    "\n",
    "# inception 4c\n",
    "x = inception(x,[128,256,64,64])\n",
    "# inception 4d\n",
    "x = inception(x,[112,288,64,64])\n",
    "aux2 = AveragePooling2D(pool_size=(5,5),strides = 3, padding='valid')(x)\n",
    "aux2 = Conv2D(128, kernel_size=(1,1), padding='same', activation='relu')(aux2)\n",
    "aux2 = Flatten()(aux2)\n",
    "aux2 = Dense(832, activation='relu')(aux2)\n",
    "aux2 = Dense(1, activation='sigmoid')(aux2)\n",
    "# loss 값이 얼마나 나왔는데 알기 위해 사용하는 기법\n",
    "\n",
    "\n",
    "# inception 4e\n",
    "x = inception(x,[256,320,128,128])\n",
    "\n",
    "\n",
    "# inception 5a\n",
    "x = inception(x,[256,320,128,128])\n",
    "# inception 5b\n",
    "x = inception(x,[384,384,128,128])\n",
    "x = AveragePooling2D(pool_size=(4,4), padding='valid')(x)\n",
    "x = Dropout(0.4)(x)\n",
    "x = Flatten()(x)\n",
    "\n",
    "outputs = Dense(1, activation='sigmoid')(x)"
   ]
  },
  {
   "cell_type": "code",
   "execution_count": 24,
   "metadata": {},
   "outputs": [],
   "source": [
    "model = Model(inputs=inputs, outputs=[aux1, aux2, outputs])\n",
    "\n",
    "model.compile(optimizer='adam', loss='binary_crossentropy', loss_weights=[0.3,0.3,1.0], metrics=['accuracy'])"
   ]
  },
  {
   "cell_type": "code",
   "execution_count": 25,
   "metadata": {},
   "outputs": [
    {
     "name": "stdout",
     "output_type": "stream",
     "text": [
      "Model: \"model\"\n",
      "__________________________________________________________________________________________________\n",
      " Layer (type)                   Output Shape         Param #     Connected to                     \n",
      "==================================================================================================\n",
      " input_1 (InputLayer)           [(None, 80, 80, 3)]  0           []                               \n",
      "                                                                                                  \n",
      " conv2d (Conv2D)                (None, 40, 40, 64)   9472        ['input_1[0][0]']                \n",
      "                                                                                                  \n",
      " batch_normalization (BatchNorm  (None, 40, 40, 64)  256         ['conv2d[0][0]']                 \n",
      " alization)                                                                                       \n",
      "                                                                                                  \n",
      " conv2d_1 (Conv2D)              (None, 40, 40, 192)  110784      ['batch_normalization[0][0]']    \n",
      "                                                                                                  \n",
      " batch_normalization_1 (BatchNo  (None, 40, 40, 192)  768        ['conv2d_1[0][0]']               \n",
      " rmalization)                                                                                     \n",
      "                                                                                                  \n",
      " conv2d_3 (Conv2D)              (None, 40, 40, 32)   6176        ['batch_normalization_1[0][0]']  \n",
      "                                                                                                  \n",
      " conv2d_5 (Conv2D)              (None, 40, 40, 32)   6176        ['batch_normalization_1[0][0]']  \n",
      "                                                                                                  \n",
      " max_pooling2d (MaxPooling2D)   (None, 40, 40, 192)  0           ['batch_normalization_1[0][0]']  \n",
      "                                                                                                  \n",
      " conv2d_2 (Conv2D)              (None, 40, 40, 64)   12352       ['batch_normalization_1[0][0]']  \n",
      "                                                                                                  \n",
      " conv2d_4 (Conv2D)              (None, 40, 40, 128)  36992       ['conv2d_3[0][0]']               \n",
      "                                                                                                  \n",
      " conv2d_6 (Conv2D)              (None, 40, 40, 32)   25632       ['conv2d_5[0][0]']               \n",
      "                                                                                                  \n",
      " conv2d_7 (Conv2D)              (None, 40, 40, 32)   6176        ['max_pooling2d[0][0]']          \n",
      "                                                                                                  \n",
      " concatenate (Concatenate)      (None, 40, 40, 256)  0           ['conv2d_2[0][0]',               \n",
      "                                                                  'conv2d_4[0][0]',               \n",
      "                                                                  'conv2d_6[0][0]',               \n",
      "                                                                  'conv2d_7[0][0]']               \n",
      "                                                                                                  \n",
      " conv2d_9 (Conv2D)              (None, 40, 40, 64)   16448       ['concatenate[0][0]']            \n",
      "                                                                                                  \n",
      " conv2d_11 (Conv2D)             (None, 40, 40, 64)   16448       ['concatenate[0][0]']            \n",
      "                                                                                                  \n",
      " max_pooling2d_1 (MaxPooling2D)  (None, 40, 40, 256)  0          ['concatenate[0][0]']            \n",
      "                                                                                                  \n",
      " conv2d_8 (Conv2D)              (None, 40, 40, 128)  32896       ['concatenate[0][0]']            \n",
      "                                                                                                  \n",
      " conv2d_10 (Conv2D)             (None, 40, 40, 192)  110784      ['conv2d_9[0][0]']               \n",
      "                                                                                                  \n",
      " conv2d_12 (Conv2D)             (None, 40, 40, 96)   153696      ['conv2d_11[0][0]']              \n",
      "                                                                                                  \n",
      " conv2d_13 (Conv2D)             (None, 40, 40, 64)   16448       ['max_pooling2d_1[0][0]']        \n",
      "                                                                                                  \n",
      " concatenate_1 (Concatenate)    (None, 40, 40, 480)  0           ['conv2d_8[0][0]',               \n",
      "                                                                  'conv2d_10[0][0]',              \n",
      "                                                                  'conv2d_12[0][0]',              \n",
      "                                                                  'conv2d_13[0][0]']              \n",
      "                                                                                                  \n",
      " max_pooling2d_2 (MaxPooling2D)  (None, 20, 20, 480)  0          ['concatenate_1[0][0]']          \n",
      "                                                                                                  \n",
      " conv2d_15 (Conv2D)             (None, 20, 20, 64)   30784       ['max_pooling2d_2[0][0]']        \n",
      "                                                                                                  \n",
      " conv2d_17 (Conv2D)             (None, 20, 20, 64)   30784       ['max_pooling2d_2[0][0]']        \n",
      "                                                                                                  \n",
      " max_pooling2d_3 (MaxPooling2D)  (None, 20, 20, 480)  0          ['max_pooling2d_2[0][0]']        \n",
      "                                                                                                  \n",
      " conv2d_14 (Conv2D)             (None, 20, 20, 192)  92352       ['max_pooling2d_2[0][0]']        \n",
      "                                                                                                  \n",
      " conv2d_16 (Conv2D)             (None, 20, 20, 208)  120016      ['conv2d_15[0][0]']              \n",
      "                                                                                                  \n",
      " conv2d_18 (Conv2D)             (None, 20, 20, 48)   76848       ['conv2d_17[0][0]']              \n",
      "                                                                                                  \n",
      " conv2d_19 (Conv2D)             (None, 20, 20, 64)   30784       ['max_pooling2d_3[0][0]']        \n",
      "                                                                                                  \n",
      " concatenate_2 (Concatenate)    (None, 20, 20, 512)  0           ['conv2d_14[0][0]',              \n",
      "                                                                  'conv2d_16[0][0]',              \n",
      "                                                                  'conv2d_18[0][0]',              \n",
      "                                                                  'conv2d_19[0][0]']              \n",
      "                                                                                                  \n",
      " conv2d_22 (Conv2D)             (None, 20, 20, 64)   32832       ['concatenate_2[0][0]']          \n",
      "                                                                                                  \n",
      " conv2d_24 (Conv2D)             (None, 20, 20, 64)   32832       ['concatenate_2[0][0]']          \n",
      "                                                                                                  \n",
      " max_pooling2d_4 (MaxPooling2D)  (None, 20, 20, 512)  0          ['concatenate_2[0][0]']          \n",
      "                                                                                                  \n",
      " conv2d_21 (Conv2D)             (None, 20, 20, 160)  82080       ['concatenate_2[0][0]']          \n",
      "                                                                                                  \n",
      " conv2d_23 (Conv2D)             (None, 20, 20, 224)  129248      ['conv2d_22[0][0]']              \n",
      "                                                                                                  \n",
      " conv2d_25 (Conv2D)             (None, 20, 20, 64)   102464      ['conv2d_24[0][0]']              \n",
      "                                                                                                  \n",
      " conv2d_26 (Conv2D)             (None, 20, 20, 64)   32832       ['max_pooling2d_4[0][0]']        \n",
      "                                                                                                  \n",
      " concatenate_3 (Concatenate)    (None, 20, 20, 512)  0           ['conv2d_21[0][0]',              \n",
      "                                                                  'conv2d_23[0][0]',              \n",
      "                                                                  'conv2d_25[0][0]',              \n",
      "                                                                  'conv2d_26[0][0]']              \n",
      "                                                                                                  \n",
      " conv2d_28 (Conv2D)             (None, 20, 20, 64)   32832       ['concatenate_3[0][0]']          \n",
      "                                                                                                  \n",
      " conv2d_30 (Conv2D)             (None, 20, 20, 64)   32832       ['concatenate_3[0][0]']          \n",
      "                                                                                                  \n",
      " max_pooling2d_5 (MaxPooling2D)  (None, 20, 20, 512)  0          ['concatenate_3[0][0]']          \n",
      "                                                                                                  \n",
      " conv2d_27 (Conv2D)             (None, 20, 20, 128)  65664       ['concatenate_3[0][0]']          \n",
      "                                                                                                  \n",
      " conv2d_29 (Conv2D)             (None, 20, 20, 256)  147712      ['conv2d_28[0][0]']              \n",
      "                                                                                                  \n",
      " conv2d_31 (Conv2D)             (None, 20, 20, 64)   102464      ['conv2d_30[0][0]']              \n",
      "                                                                                                  \n",
      " conv2d_32 (Conv2D)             (None, 20, 20, 64)   32832       ['max_pooling2d_5[0][0]']        \n",
      "                                                                                                  \n",
      " concatenate_4 (Concatenate)    (None, 20, 20, 512)  0           ['conv2d_27[0][0]',              \n",
      "                                                                  'conv2d_29[0][0]',              \n",
      "                                                                  'conv2d_31[0][0]',              \n",
      "                                                                  'conv2d_32[0][0]']              \n",
      "                                                                                                  \n",
      " conv2d_34 (Conv2D)             (None, 20, 20, 64)   32832       ['concatenate_4[0][0]']          \n",
      "                                                                                                  \n",
      " conv2d_36 (Conv2D)             (None, 20, 20, 64)   32832       ['concatenate_4[0][0]']          \n",
      "                                                                                                  \n",
      " max_pooling2d_6 (MaxPooling2D)  (None, 20, 20, 512)  0          ['concatenate_4[0][0]']          \n",
      "                                                                                                  \n",
      " conv2d_33 (Conv2D)             (None, 20, 20, 112)  57456       ['concatenate_4[0][0]']          \n",
      "                                                                                                  \n",
      " conv2d_35 (Conv2D)             (None, 20, 20, 288)  166176      ['conv2d_34[0][0]']              \n",
      "                                                                                                  \n",
      " conv2d_37 (Conv2D)             (None, 20, 20, 64)   102464      ['conv2d_36[0][0]']              \n",
      "                                                                                                  \n",
      " conv2d_38 (Conv2D)             (None, 20, 20, 64)   32832       ['max_pooling2d_6[0][0]']        \n",
      "                                                                                                  \n",
      " concatenate_5 (Concatenate)    (None, 20, 20, 528)  0           ['conv2d_33[0][0]',              \n",
      "                                                                  'conv2d_35[0][0]',              \n",
      "                                                                  'conv2d_37[0][0]',              \n",
      "                                                                  'conv2d_38[0][0]']              \n",
      "                                                                                                  \n",
      " conv2d_41 (Conv2D)             (None, 20, 20, 128)  67712       ['concatenate_5[0][0]']          \n",
      "                                                                                                  \n",
      " conv2d_43 (Conv2D)             (None, 20, 20, 128)  67712       ['concatenate_5[0][0]']          \n",
      "                                                                                                  \n",
      " max_pooling2d_7 (MaxPooling2D)  (None, 20, 20, 528)  0          ['concatenate_5[0][0]']          \n",
      "                                                                                                  \n",
      " conv2d_40 (Conv2D)             (None, 20, 20, 256)  135424      ['concatenate_5[0][0]']          \n",
      "                                                                                                  \n",
      " conv2d_42 (Conv2D)             (None, 20, 20, 320)  368960      ['conv2d_41[0][0]']              \n",
      "                                                                                                  \n",
      " conv2d_44 (Conv2D)             (None, 20, 20, 128)  409728      ['conv2d_43[0][0]']              \n",
      "                                                                                                  \n",
      " conv2d_45 (Conv2D)             (None, 20, 20, 128)  67712       ['max_pooling2d_7[0][0]']        \n",
      "                                                                                                  \n",
      " concatenate_6 (Concatenate)    (None, 20, 20, 832)  0           ['conv2d_40[0][0]',              \n",
      "                                                                  'conv2d_42[0][0]',              \n",
      "                                                                  'conv2d_44[0][0]',              \n",
      "                                                                  'conv2d_45[0][0]']              \n",
      "                                                                                                  \n",
      " conv2d_47 (Conv2D)             (None, 20, 20, 128)  106624      ['concatenate_6[0][0]']          \n",
      "                                                                                                  \n",
      " conv2d_49 (Conv2D)             (None, 20, 20, 128)  106624      ['concatenate_6[0][0]']          \n",
      "                                                                                                  \n",
      " max_pooling2d_8 (MaxPooling2D)  (None, 20, 20, 832)  0          ['concatenate_6[0][0]']          \n",
      "                                                                                                  \n",
      " conv2d_46 (Conv2D)             (None, 20, 20, 256)  213248      ['concatenate_6[0][0]']          \n",
      "                                                                                                  \n",
      " conv2d_48 (Conv2D)             (None, 20, 20, 320)  368960      ['conv2d_47[0][0]']              \n",
      "                                                                                                  \n",
      " conv2d_50 (Conv2D)             (None, 20, 20, 128)  409728      ['conv2d_49[0][0]']              \n",
      "                                                                                                  \n",
      " conv2d_51 (Conv2D)             (None, 20, 20, 128)  106624      ['max_pooling2d_8[0][0]']        \n",
      "                                                                                                  \n",
      " concatenate_7 (Concatenate)    (None, 20, 20, 832)  0           ['conv2d_46[0][0]',              \n",
      "                                                                  'conv2d_48[0][0]',              \n",
      "                                                                  'conv2d_50[0][0]',              \n",
      "                                                                  'conv2d_51[0][0]']              \n",
      "                                                                                                  \n",
      " conv2d_53 (Conv2D)             (None, 20, 20, 128)  106624      ['concatenate_7[0][0]']          \n",
      "                                                                                                  \n",
      " conv2d_55 (Conv2D)             (None, 20, 20, 128)  106624      ['concatenate_7[0][0]']          \n",
      "                                                                                                  \n",
      " max_pooling2d_9 (MaxPooling2D)  (None, 20, 20, 832)  0          ['concatenate_7[0][0]']          \n",
      "                                                                                                  \n",
      " conv2d_52 (Conv2D)             (None, 20, 20, 384)  319872      ['concatenate_7[0][0]']          \n",
      "                                                                                                  \n",
      " conv2d_54 (Conv2D)             (None, 20, 20, 384)  442752      ['conv2d_53[0][0]']              \n",
      "                                                                                                  \n",
      " conv2d_56 (Conv2D)             (None, 20, 20, 128)  409728      ['conv2d_55[0][0]']              \n",
      "                                                                                                  \n",
      " conv2d_57 (Conv2D)             (None, 20, 20, 128)  106624      ['max_pooling2d_9[0][0]']        \n",
      "                                                                                                  \n",
      " average_pooling2d (AveragePool  (None, 6, 6, 512)   0           ['concatenate_2[0][0]']          \n",
      " ing2D)                                                                                           \n",
      "                                                                                                  \n",
      " average_pooling2d_1 (AveragePo  (None, 6, 6, 528)   0           ['concatenate_5[0][0]']          \n",
      " oling2D)                                                                                         \n",
      "                                                                                                  \n",
      " concatenate_8 (Concatenate)    (None, 20, 20, 1024  0           ['conv2d_52[0][0]',              \n",
      "                                )                                 'conv2d_54[0][0]',              \n",
      "                                                                  'conv2d_56[0][0]',              \n",
      "                                                                  'conv2d_57[0][0]']              \n",
      "                                                                                                  \n",
      " conv2d_20 (Conv2D)             (None, 6, 6, 128)    65664       ['average_pooling2d[0][0]']      \n",
      "                                                                                                  \n",
      " conv2d_39 (Conv2D)             (None, 6, 6, 128)    67712       ['average_pooling2d_1[0][0]']    \n",
      "                                                                                                  \n",
      " average_pooling2d_2 (AveragePo  (None, 5, 5, 1024)  0           ['concatenate_8[0][0]']          \n",
      " oling2D)                                                                                         \n",
      "                                                                                                  \n",
      " flatten (Flatten)              (None, 4608)         0           ['conv2d_20[0][0]']              \n",
      "                                                                                                  \n",
      " flatten_1 (Flatten)            (None, 4608)         0           ['conv2d_39[0][0]']              \n",
      "                                                                                                  \n",
      " dropout (Dropout)              (None, 5, 5, 1024)   0           ['average_pooling2d_2[0][0]']    \n",
      "                                                                                                  \n",
      " dense (Dense)                  (None, 512)          2359808     ['flatten[0][0]']                \n",
      "                                                                                                  \n",
      " dense_2 (Dense)                (None, 832)          3834688     ['flatten_1[0][0]']              \n",
      "                                                                                                  \n",
      " flatten_2 (Flatten)            (None, 25600)        0           ['dropout[0][0]']                \n",
      "                                                                                                  \n",
      " dense_1 (Dense)                (None, 1)            513         ['dense[0][0]']                  \n",
      "                                                                                                  \n",
      " dense_3 (Dense)                (None, 1)            833         ['dense_2[0][0]']                \n",
      "                                                                                                  \n",
      " dense_4 (Dense)                (None, 1)            25601       ['flatten_2[0][0]']              \n",
      "                                                                                                  \n",
      "==================================================================================================\n",
      "Total params: 12,470,387\n",
      "Trainable params: 12,469,875\n",
      "Non-trainable params: 512\n",
      "__________________________________________________________________________________________________\n"
     ]
    }
   ],
   "source": [
    "model.summary()"
   ]
  },
  {
   "cell_type": "code",
   "execution_count": 26,
   "metadata": {},
   "outputs": [],
   "source": [
    "# 모델 실행 환경 설정\n",
    "\n",
    "# model.compile(loss='binary_crossentropy', optimizer='adam', metrics=['accuracy'])\n",
    "\n",
    "# 모델 최적화 구역 설정\n",
    "MODEL_DIR = './model/'\n",
    "if not os.path.exists(MODEL_DIR):\n",
    "  os.mkdir(MODEL_DIR)\n",
    "\n",
    "modelpath = './model/goolgnet.hdf5'\n",
    "checkpointer = ModelCheckpoint(filepath = modelpath, monitor='val_loss', verbose = 1, save_best_only=True)\n",
    "early_stopping_callback = EarlyStopping(monitor='val_loss', patience=10)"
   ]
  },
  {
   "cell_type": "code",
   "execution_count": 27,
   "metadata": {},
   "outputs": [
    {
     "name": "stdout",
     "output_type": "stream",
     "text": [
      "\n",
      "Epoch 1: val_loss improved from inf to 1.10371, saving model to ./model\\goolgnet.hdf5\n",
      "\n",
      "Epoch 2: val_loss did not improve from 1.10371\n",
      "\n",
      "Epoch 3: val_loss improved from 1.10371 to 0.67329, saving model to ./model\\goolgnet.hdf5\n",
      "\n",
      "Epoch 4: val_loss improved from 0.67329 to 0.30374, saving model to ./model\\goolgnet.hdf5\n",
      "\n",
      "Epoch 5: val_loss did not improve from 0.30374\n",
      "\n",
      "Epoch 6: val_loss improved from 0.30374 to 0.21275, saving model to ./model\\goolgnet.hdf5\n",
      "\n",
      "Epoch 7: val_loss did not improve from 0.21275\n",
      "\n",
      "Epoch 8: val_loss did not improve from 0.21275\n",
      "\n",
      "Epoch 9: val_loss did not improve from 0.21275\n",
      "\n",
      "Epoch 10: val_loss did not improve from 0.21275\n",
      "\n",
      "Epoch 11: val_loss did not improve from 0.21275\n",
      "\n",
      "Epoch 12: val_loss improved from 0.21275 to 0.10051, saving model to ./model\\goolgnet.hdf5\n",
      "\n",
      "Epoch 13: val_loss did not improve from 0.10051\n",
      "\n",
      "Epoch 14: val_loss improved from 0.10051 to 0.08601, saving model to ./model\\goolgnet.hdf5\n",
      "\n",
      "Epoch 15: val_loss did not improve from 0.08601\n",
      "\n",
      "Epoch 16: val_loss improved from 0.08601 to 0.07535, saving model to ./model\\goolgnet.hdf5\n",
      "\n",
      "Epoch 17: val_loss did not improve from 0.07535\n",
      "\n",
      "Epoch 18: val_loss did not improve from 0.07535\n",
      "\n",
      "Epoch 19: val_loss did not improve from 0.07535\n",
      "\n",
      "Epoch 20: val_loss did not improve from 0.07535\n",
      "\n",
      "Epoch 21: val_loss did not improve from 0.07535\n",
      "\n",
      "Epoch 22: val_loss did not improve from 0.07535\n",
      "\n",
      "Epoch 23: val_loss did not improve from 0.07535\n",
      "\n",
      "Epoch 24: val_loss did not improve from 0.07535\n",
      "\n",
      "Epoch 25: val_loss did not improve from 0.07535\n",
      "\n",
      "Epoch 26: val_loss improved from 0.07535 to 0.05818, saving model to ./model\\goolgnet.hdf5\n",
      "\n",
      "Epoch 27: val_loss did not improve from 0.05818\n",
      "\n",
      "Epoch 28: val_loss did not improve from 0.05818\n",
      "\n",
      "Epoch 29: val_loss did not improve from 0.05818\n",
      "\n",
      "Epoch 30: val_loss did not improve from 0.05818\n",
      "\n",
      "Epoch 31: val_loss did not improve from 0.05818\n",
      "\n",
      "Epoch 32: val_loss did not improve from 0.05818\n",
      "\n",
      "Epoch 33: val_loss did not improve from 0.05818\n",
      "\n",
      "Epoch 34: val_loss did not improve from 0.05818\n",
      "\n",
      "Epoch 35: val_loss did not improve from 0.05818\n",
      "\n",
      "Epoch 36: val_loss did not improve from 0.05818\n",
      "125/125 [==============================] - 5s 39ms/step - loss: 0.0580 - dense_1_loss: 0.0281 - dense_3_loss: 0.0105 - dense_4_loss: 0.0194 - dense_1_accuracy: 0.9955 - dense_3_accuracy: 0.9962 - dense_4_accuracy: 0.9948\n",
      "\n",
      " Test Dataset ACC : 0.0281\n"
     ]
    }
   ],
   "source": [
    "# 모델 실행\n",
    "\n",
    "history = model.fit(x_train, y_train, validation_split=0.2, epochs=50, batch_size=32,\n",
    "          verbose=0, callbacks=[early_stopping_callback, checkpointer])\n",
    "\n",
    "# 테스트 정확도 출력\n",
    "print('\\n Test Dataset ACC : %.4f'%(model.evaluate(x_test,y_test)[-1]))"
   ]
  },
  {
   "cell_type": "code",
   "execution_count": 42,
   "metadata": {},
   "outputs": [
    {
     "name": "stdout",
     "output_type": "stream",
     "text": [
      "125/125 [==============================] - 5s 39ms/step - loss: 0.0580 - dense_1_loss: 0.0281 - dense_3_loss: 0.0105 - dense_4_loss: 0.0194 - dense_1_accuracy: 0.9955 - dense_3_accuracy: 0.9962 - dense_4_accuracy: 0.9948\n"
     ]
    },
    {
     "data": {
      "text/plain": [
       "0.9947500228881836"
      ]
     },
     "execution_count": 42,
     "metadata": {},
     "output_type": "execute_result"
    }
   ],
   "source": [
    "model.evaluate(x_test, y_test)[-1]"
   ]
  },
  {
   "cell_type": "code",
   "execution_count": 43,
   "metadata": {},
   "outputs": [
    {
     "data": {
      "image/png": "[encoded data removed]",
      "text/plain": [
       "<Figure size 800x800 with 2 Axes>"
      ]
     },
     "metadata": {},
     "output_type": "display_data"
    }
   ],
   "source": [
    "# 기본 모델 그림\n",
    "\n",
    "import matplotlib.pyplot as plt\n",
    "\n",
    "acc = history.history['dense_1_accuracy']\n",
    "val_acc = history.history['val_dense_1_accuracy']\n",
    "\n",
    "loss = history.history['dense_1_loss']\n",
    "val_loss = history.history['val_dense_1_loss']\n",
    "\n",
    "epochs_range = range(36)\n",
    "\n",
    "plt.figure(figsize=(8, 8))\n",
    "plt.subplot(1, 2, 1)\n",
    "plt.plot(epochs_range, acc, label='Training Accuracy')\n",
    "plt.plot(epochs_range, val_acc, label='Validation Accuracy')\n",
    "plt.legend(loc='lower right')\n",
    "plt.title('Training and Validation Accuracy')\n",
    "\n",
    "plt.subplot(1, 2, 2)\n",
    "plt.plot(epochs_range, loss, label='Training Loss')\n",
    "plt.plot(epochs_range, val_loss, label='Validation Loss')\n",
    "plt.legend(loc='upper right')\n",
    "plt.title('Training and Validation Loss')\n",
    "plt.show()"
   ]
  },
  {
   "cell_type": "code",
   "execution_count": null,
   "metadata": {},
   "outputs": [],
   "source": [
    "from keras.models import load_model\n",
    "model = load_model('./model/googlenet.hdf5')"
   ]
  },
  {
   "cell_type": "code",
   "execution_count": 59,
   "metadata": {},
   "outputs": [
    {
     "name": "stdout",
     "output_type": "stream",
     "text": [
      "125/125 [==============================] - 5s 40ms/step - loss: 0.0580 - dense_1_loss: 0.0281 - dense_3_loss: 0.0105 - dense_4_loss: 0.0194 - dense_1_accuracy: 0.9955 - dense_3_accuracy: 0.9962 - dense_4_accuracy: 0.9948\n"
     ]
    },
    {
     "data": {
      "text/plain": [
       "0.9948"
      ]
     },
     "execution_count": 59,
     "metadata": {},
     "output_type": "execute_result"
    }
   ],
   "source": [
    "print(round(model.evaluate(x_test, y_test)[-1],4))"
   ]
  },
  {
   "cell_type": "code",
   "execution_count": 133,
   "metadata": {},
   "outputs": [
    {
     "data": {
      "text/plain": [
       "(1, 100, 100, 3)"
      ]
     },
     "execution_count": 133,
     "metadata": {},
     "output_type": "execute_result"
    }
   ],
   "source": [
    "sh_img = ['bb.png']\n",
    "sh_img_1 = []\n",
    "for i in range(len(sh_img)):\n",
    "    img = Image.open(sh_img[i])\n",
    "    sh_img_1.append(img.resize((100,100)))\n",
    "    \n",
    "img = np.array(sh_img_1[0])/255\n",
    "\n",
    "img = img.reshape(1, 100, 100, -1)\n",
    "img.shape"
   ]
  },
  {
   "cell_type": "code",
   "execution_count": 134,
   "metadata": {},
   "outputs": [
    {
     "data": {
      "image/png": "[encoded data removed]",
      "text/plain": [
       "<PIL.Image.Image image mode=RGB size=100x100>"
      ]
     },
     "execution_count": 134,
     "metadata": {},
     "output_type": "execute_result"
    }
   ],
   "source": [
    "sh_img_1[0]"
   ]
  },
  {
   "cell_type": "code",
   "execution_count": 135,
   "metadata": {},
   "outputs": [
    {
     "name": "stdout",
     "output_type": "stream",
     "text": [
      "1/1 [==============================] - 0s 18ms/step\n",
      "[[1]] with_helmet\n"
     ]
    }
   ],
   "source": [
    "# 0.5 보다 크면 true, false로 반환하고 이걸 int32로 변환하면 0 혹은 1로 return 된다. \n",
    "# 결국 값이 0.5 보다 크면 1이고, 작게 되면 0으로 된다.\n",
    "\n",
    "pred = (model.predict(img)[-1] > 0.5).astype(\"int32\")\n",
    "\n",
    "if pred == 0:\n",
    "    print(pred, 'without_helmet')\n",
    "else:\n",
    "    print(pred, 'with_helmet')"
   ]
  }
 ],
 "metadata": {
  "kernelspec": {
   "display_name": "base",
   "language": "python",
   "name": "python3"
  },
  "language_info": {
   "codemirror_mode": {
    "name": "ipython",
    "version": 3
   },
   "file_extension": ".py",
   "mimetype": "text/x-python",
   "name": "python",
   "nbconvert_exporter": "python",
   "pygments_lexer": "ipython3",
   "version": "3.9.13"
  },
  "orig_nbformat": 4
 },
 "nbformat": 4,
 "nbformat_minor": 2
}
