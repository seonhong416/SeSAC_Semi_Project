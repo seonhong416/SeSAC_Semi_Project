{
 "cells": [
  {
   "cell_type": "code",
   "execution_count": 2,
   "metadata": {},
   "outputs": [
    {
     "name": "stdout",
     "output_type": "stream",
     "text": [
      "Requirement already satisfied: xmltodict in c:\\users\\sbauser\\anaconda3\\lib\\site-packages (0.13.0)\n",
      "Note: you may need to restart the kernel to use updated packages.\n"
     ]
    },
    {
     "name": "stderr",
     "output_type": "stream",
     "text": [
      "WARNING: Ignoring invalid distribution -pype1 (c:\\users\\sbauser\\anaconda3\\lib\\site-packages)\n",
      "WARNING: Ignoring invalid distribution -pype1 (c:\\users\\sbauser\\anaconda3\\lib\\site-packages)\n",
      "WARNING: Ignoring invalid distribution -pype1 (c:\\users\\sbauser\\anaconda3\\lib\\site-packages)\n",
      "WARNING: Ignoring invalid distribution -pype1 (c:\\users\\sbauser\\anaconda3\\lib\\site-packages)\n",
      "WARNING: Ignoring invalid distribution -pype1 (c:\\users\\sbauser\\anaconda3\\lib\\site-packages)\n",
      "WARNING: Ignoring invalid distribution -pype1 (c:\\users\\sbauser\\anaconda3\\lib\\site-packages)\n"
     ]
    }
   ],
   "source": [
    "pip install xmltodict"
   ]
  },
  {
   "cell_type": "code",
   "execution_count": 3,
   "metadata": {},
   "outputs": [
    {
     "ename": "NameError",
     "evalue": "name 'i' is not defined",
     "output_type": "error",
     "traceback": [
      "\u001b[1;31m---------------------------------------------------------------------------\u001b[0m",
      "\u001b[1;31mNameError\u001b[0m                                 Traceback (most recent call last)",
      "\u001b[1;32m~\\AppData\\Local\\Temp\\ipykernel_3372\\4258880014.py\u001b[0m in \u001b[0;36m<module>\u001b[1;34m\u001b[0m\n\u001b[0;32m      3\u001b[0m \u001b[1;33m\u001b[0m\u001b[0m\n\u001b[0;32m      4\u001b[0m \u001b[1;31m# XML 파일 열기\u001b[0m\u001b[1;33m\u001b[0m\u001b[1;33m\u001b[0m\u001b[0m\n\u001b[1;32m----> 5\u001b[1;33m \u001b[1;32mwith\u001b[0m \u001b[0mopen\u001b[0m\u001b[1;33m(\u001b[0m\u001b[1;34mf\"annotations/BikesHelmets{i}.xml\"\u001b[0m\u001b[1;33m,\u001b[0m \u001b[1;34m'r'\u001b[0m\u001b[1;33m)\u001b[0m \u001b[1;32mas\u001b[0m \u001b[0mxml_file\u001b[0m\u001b[1;33m:\u001b[0m\u001b[1;33m\u001b[0m\u001b[1;33m\u001b[0m\u001b[0m\n\u001b[0m\u001b[0;32m      6\u001b[0m     \u001b[1;31m# XML 파일을 OrderedDict 형식으로 변환\u001b[0m\u001b[1;33m\u001b[0m\u001b[1;33m\u001b[0m\u001b[0m\n\u001b[0;32m      7\u001b[0m     \u001b[0mxml_dict\u001b[0m \u001b[1;33m=\u001b[0m \u001b[0mxmltodict\u001b[0m\u001b[1;33m.\u001b[0m\u001b[0mparse\u001b[0m\u001b[1;33m(\u001b[0m\u001b[0mxml_file\u001b[0m\u001b[1;33m.\u001b[0m\u001b[0mread\u001b[0m\u001b[1;33m(\u001b[0m\u001b[1;33m)\u001b[0m\u001b[1;33m)\u001b[0m\u001b[1;33m\u001b[0m\u001b[1;33m\u001b[0m\u001b[0m\n",
      "\u001b[1;31mNameError\u001b[0m: name 'i' is not defined"
     ]
    }
   ],
   "source": [
    "import xmltodict\n",
    "import json\n",
    "\n",
    "# XML 파일 열기\n",
    "with open(f\"annotations/BikesHelmets{i}.xml\", 'r') as xml_file:\n",
    "    # XML 파일을 OrderedDict 형식으로 변환\n",
    "    xml_dict = xmltodict.parse(xml_file.read())\n",
    "\n",
    "# OrderedDict 형식을 JSON 형식으로 변환\n",
    "json_str = json.dumps(xml_dict)\n",
    "\n",
    "# JSON 파일로 저장\n",
    "with open(f\"annotations/BikesHelmets{i}.json\", 'w') as json_file:\n",
    "    json_file.write(json_str)"
   ]
  },
  {
   "cell_type": "code",
   "execution_count": null,
   "metadata": {},
   "outputs": [],
   "source": [
    "import json\n",
    "import xmltodict\n",
    "\n",
    "## xml 파일을 json 파일로 변환\n",
    "\n",
    "for i in range(766) :\n",
    "    try :\n",
    "        with open(f\"annotations/BikesHelmets{i}.xml\",'r') as f:\n",
    "            xmlString = f.read()\n",
    "            \n",
    "        jsonString = json.dumps(xmltodict.parse(xmlString), indent=4)\n",
    "        \n",
    "        with open(f\"annotations/BikesHelmets{i}.json\", 'w') as f:\n",
    "            f.write(jsonString)\n",
    "    except :\n",
    "        pass"
   ]
  },
  {
   "cell_type": "code",
   "execution_count": 15,
   "metadata": {},
   "outputs": [
    {
     "ename": "TypeError",
     "evalue": "string indices must be integers",
     "output_type": "error",
     "traceback": [
      "\u001b[1;31m---------------------------------------------------------------------------\u001b[0m",
      "\u001b[1;31mTypeError\u001b[0m                                 Traceback (most recent call last)",
      "\u001b[1;32m~\\AppData\\Local\\Temp\\ipykernel_3372\\344747745.py\u001b[0m in \u001b[0;36m<module>\u001b[1;34m\u001b[0m\n\u001b[0;32m      8\u001b[0m \u001b[0mbndboxes\u001b[0m \u001b[1;33m=\u001b[0m \u001b[1;33m[\u001b[0m\u001b[1;33m]\u001b[0m\u001b[1;33m\u001b[0m\u001b[1;33m\u001b[0m\u001b[0m\n\u001b[0;32m      9\u001b[0m \u001b[1;32mfor\u001b[0m \u001b[0mobj\u001b[0m \u001b[1;32min\u001b[0m \u001b[0mlabel\u001b[0m\u001b[1;33m[\u001b[0m\u001b[1;34m'annotation'\u001b[0m\u001b[1;33m]\u001b[0m\u001b[1;33m[\u001b[0m\u001b[1;34m'object'\u001b[0m\u001b[1;33m]\u001b[0m\u001b[1;33m:\u001b[0m\u001b[1;33m\u001b[0m\u001b[1;33m\u001b[0m\u001b[0m\n\u001b[1;32m---> 10\u001b[1;33m     \u001b[0mbndbox\u001b[0m \u001b[1;33m=\u001b[0m \u001b[0mobj\u001b[0m\u001b[1;33m[\u001b[0m\u001b[1;34m'bndbox'\u001b[0m\u001b[1;33m]\u001b[0m\u001b[1;33m\u001b[0m\u001b[1;33m\u001b[0m\u001b[0m\n\u001b[0m\u001b[0;32m     11\u001b[0m     \u001b[0mxmin\u001b[0m \u001b[1;33m=\u001b[0m \u001b[0mint\u001b[0m\u001b[1;33m(\u001b[0m\u001b[0mbndbox\u001b[0m\u001b[1;33m[\u001b[0m\u001b[1;34m'xmin'\u001b[0m\u001b[1;33m]\u001b[0m\u001b[1;33m)\u001b[0m\u001b[1;33m\u001b[0m\u001b[1;33m\u001b[0m\u001b[0m\n\u001b[0;32m     12\u001b[0m     \u001b[0mymin\u001b[0m \u001b[1;33m=\u001b[0m \u001b[0mint\u001b[0m\u001b[1;33m(\u001b[0m\u001b[0mbndbox\u001b[0m\u001b[1;33m[\u001b[0m\u001b[1;34m'ymin'\u001b[0m\u001b[1;33m]\u001b[0m\u001b[1;33m)\u001b[0m\u001b[1;33m\u001b[0m\u001b[1;33m\u001b[0m\u001b[0m\n",
      "\u001b[1;31mTypeError\u001b[0m: string indices must be integers"
     ]
    }
   ],
   "source": [
    "import cv2\n",
    "import json\n",
    "\n",
    "# json 파일에서 bndbox 정보 추출\n",
    "with open(f\"annotations/BikesHelmets1.json\", 'r') as f:\n",
    "    label = json.load(f)\n",
    "\n",
    "bndboxes = []\n",
    "for obj in label['annotation']['object']:\n",
    "    bndbox = obj['bndbox']\n",
    "    xmin = int(bndbox['xmin'])\n",
    "    ymin = int(bndbox['ymin'])\n",
    "    xmax = int(bndbox['xmax'])\n",
    "    ymax = int(bndbox['ymax'])\n",
    "    bndboxes.append((xmin, ymin, xmax, ymax))\n",
    "\n",
    "# 이미지 로드\n",
    "img = cv2.imread(f'images/BikesHelmets1.png')\n",
    "\n",
    "# 경계 상자 그리기\n",
    "for bndbox in bndboxes:\n",
    "    cv2.rectangle(img, (bndbox[0], bndbox[1]), (bndbox[2], bndbox[3]), (0, 255, 0), 2)\n",
    "\n",
    "# 이미지 저장\n",
    "cv2.imwrite(f'labeling/BikesHelmets1.jpg', img) # 저장할 경로 입력\n",
    "\n",
    "# 이미지 출력\n",
    "cv2.imshow('image', img)\n",
    "cv2.waitKey(0)\n",
    "cv2.destroyAllWindows()"
   ]
  },
  {
   "cell_type": "code",
   "execution_count": 26,
   "metadata": {},
   "outputs": [],
   "source": [
    "import cv2\n",
    "import json\n",
    "\n",
    "for i in range(766):\n",
    "    try:\n",
    "\n",
    "        # json 파일에서 bndbox 정보 추출\n",
    "        with open(f\"annotations/BikesHelmets{i}.json\", 'r') as f:\n",
    "            label = json.load(f)\n",
    "\n",
    "        bndboxes = []\n",
    "        for obj in label['annotation']['object']:\n",
    "            bndbox = obj['bndbox']\n",
    "            xmin = int(bndbox['xmin'])\n",
    "            ymin = int(bndbox['ymin'])\n",
    "            xmax = int(bndbox['xmax'])\n",
    "            ymax = int(bndbox['ymax'])\n",
    "            bndboxes.append((xmin, ymin, xmax, ymax))\n",
    "\n",
    "        # 이미지 로드\n",
    "        img = cv2.imread(f'images/BikesHelmets{i}.png')\n",
    "\n",
    "        # 경계 상자 그리기\n",
    "        for bndbox in bndboxes:\n",
    "            cv2.rectangle(img, (bndbox[0], bndbox[1]), (bndbox[2], bndbox[3]), (0, 255, 0), 2)\n",
    "\n",
    "        # 이미지 저장\n",
    "        cv2.imwrite(f'label/label_BikesHelmets{i}.png', img) # 저장할 경로 입력\n",
    "    except:\n",
    "       \n",
    "        try :\n",
    "            with open(f'annotations/BikesHelmets{i}.json', 'r') as f:\n",
    "                label = json.load(f)\n",
    "            \n",
    "            bndboxes = []\n",
    "            bndbox = label['annotation']['object']['bndbox']\n",
    "            xmin = int(bndbox['xmin'])\n",
    "            ymin = int(bndbox['ymin'])\n",
    "            xmax = int(bndbox['xmax'])\n",
    "            ymax = int(bndbox['ymax'])\n",
    "            bndboxes.append((xmin, ymin, xmax, ymax))\n",
    "            \n",
    "            img = cv2.imread(f'annotations/BikesHelmets{i}.png')\n",
    "\n",
    "        # 경계 상자 그리기\n",
    "            for bndbox in bndboxes:\n",
    "                cv2.rectangle(img, (bndbox[0], bndbox[1]), (bndbox[2], bndbox[3]), (0, 255, 0), 2)\n",
    "\n",
    "            # 이미지 저장\n",
    "            cv2.imwrite(f'label/label_BikesHelmets{i}.png', img) # 저장할 경로 입력\n",
    "            \n",
    "        except :\n",
    "            pass\n",
    "    \n",
    "    \n",
    "\n"
   ]
  },
  {
   "cell_type": "code",
   "execution_count": 20,
   "metadata": {},
   "outputs": [],
   "source": [
    "import cv2\n",
    "import json\n",
    "\n",
    "for i in range(766) :\n",
    "    try :\n",
    "        # json 파일에서 bndbox 정보 추출\n",
    "        with open(f'annotations/BikesHelmets{i}.json', 'r') as f:\n",
    "            label = json.load(f)\n",
    "\n",
    "        bndboxes = []\n",
    "        for obj in label['annotation']['object']:\n",
    "            bndbox = obj['bndbox']\n",
    "            xmin = int(bndbox['xmin'])\n",
    "            ymin = int(bndbox['ymin'])\n",
    "            xmax = int(bndbox['xmax'])\n",
    "            ymax = int(bndbox['ymax'])\n",
    "            bndboxes.append((xmin, ymin, xmax, ymax))\n",
    "\n",
    "        # 이미지 로드\n",
    "        img = cv2.imread(f'annotations/BikesHelmets{i}.png')\n",
    "\n",
    "        # 경계 상자 그리기\n",
    "        for bndbox in bndboxes:\n",
    "            cv2.rectangle(img, (bndbox[0], bndbox[1]), (bndbox[2], bndbox[3]), (0, 255, 0), 2)\n",
    "\n",
    "        # 이미지 저장\n",
    "        cv2.imwrite(f'label/label_BikesHelmets{i}.png', img) # 저장할 경로 입력\n",
    "    except :\n",
    "        try :\n",
    "            with open(f'annotations/BikesHelmets{i}.json', 'r') as f:\n",
    "                label = json.load(f)\n",
    "            \n",
    "            bndboxes = []\n",
    "            bndbox = label['annotation']['object']['bndbox']\n",
    "            xmin = int(bndbox['xmin'])\n",
    "            ymin = int(bndbox['ymin'])\n",
    "            xmax = int(bndbox['xmax'])\n",
    "            ymax = int(bndbox['ymax'])\n",
    "            bndboxes.append((xmin, ymin, xmax, ymax))\n",
    "            \n",
    "            img = cv2.imread(f'annotations/BikesHelmets{i}.png')\n",
    "\n",
    "        # 경계 상자 그리기\n",
    "            for bndbox in bndboxes:\n",
    "                cv2.rectangle(img, (bndbox[0], bndbox[1]), (bndbox[2], bndbox[3]), (0, 255, 0), 2)\n",
    "\n",
    "            # 이미지 저장\n",
    "            cv2.imwrite(f'label/label_BikesHelmets{i}.png', img) # 저장할 경로 입력\n",
    "            \n",
    "        except :\n",
    "            pass\n",
    "     "
   ]
  },
  {
   "cell_type": "code",
   "execution_count": null,
   "metadata": {},
   "outputs": [],
   "source": []
  }
 ],
 "metadata": {
  "kernelspec": {
   "display_name": "base",
   "language": "python",
   "name": "python3"
  },
  "language_info": {
   "codemirror_mode": {
    "name": "ipython",
    "version": 3
   },
   "file_extension": ".py",
   "mimetype": "text/x-python",
   "name": "python",
   "nbconvert_exporter": "python",
   "pygments_lexer": "ipython3",
   "version": "3.9.13"
  },
  "orig_nbformat": 4
 },
 "nbformat": 4,
 "nbformat_minor": 2
}
