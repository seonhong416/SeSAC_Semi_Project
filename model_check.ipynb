{
 "cells": [
  {
   "cell_type": "code",
   "execution_count": 1,
   "metadata": {},
   "outputs": [],
   "source": [
    "import pandas as pd"
   ]
  },
  {
   "cell_type": "code",
   "execution_count": 2,
   "metadata": {},
   "outputs": [
    {
     "data": {
      "text/html": [
       "<div>\n",
       "<style scoped>\n",
       "    .dataframe tbody tr th:only-of-type {\n",
       "        vertical-align: middle;\n",
       "    }\n",
       "\n",
       "    .dataframe tbody tr th {\n",
       "        vertical-align: top;\n",
       "    }\n",
       "\n",
       "    .dataframe thead th {\n",
       "        text-align: right;\n",
       "    }\n",
       "</style>\n",
       "<table border=\"1\" class=\"dataframe\">\n",
       "  <thead>\n",
       "    <tr style=\"text-align: right;\">\n",
       "      <th></th>\n",
       "      <th>model</th>\n",
       "      <th>accuracy(%)</th>\n",
       "      <th>image_size</th>\n",
       "      <th>eopchs</th>\n",
       "      <th>batchsize</th>\n",
       "      <th>f1_score(%)</th>\n",
       "      <th>precision_score(%)</th>\n",
       "    </tr>\n",
       "  </thead>\n",
       "  <tbody>\n",
       "    <tr>\n",
       "      <th>0</th>\n",
       "      <td>VGG_16_KFold</td>\n",
       "      <td>99.24</td>\n",
       "      <td>(128, 128)</td>\n",
       "      <td>100</td>\n",
       "      <td>64</td>\n",
       "      <td>99.24</td>\n",
       "      <td>99.16</td>\n",
       "    </tr>\n",
       "    <tr>\n",
       "      <th>1</th>\n",
       "      <td>VGG_16</td>\n",
       "      <td>99.28</td>\n",
       "      <td>(128, 128)</td>\n",
       "      <td>100</td>\n",
       "      <td>64</td>\n",
       "      <td>97.54</td>\n",
       "      <td>98.13</td>\n",
       "    </tr>\n",
       "    <tr>\n",
       "      <th>2</th>\n",
       "      <td>googLeNet_Semodule</td>\n",
       "      <td>99.86</td>\n",
       "      <td>(64,64)</td>\n",
       "      <td>50</td>\n",
       "      <td>32</td>\n",
       "      <td>99.18</td>\n",
       "      <td>99.64</td>\n",
       "    </tr>\n",
       "    <tr>\n",
       "      <th>3</th>\n",
       "      <td>ResNet_50</td>\n",
       "      <td>99.55</td>\n",
       "      <td>(64, 64)</td>\n",
       "      <td>100</td>\n",
       "      <td>32</td>\n",
       "      <td>99.55</td>\n",
       "      <td>99.35</td>\n",
       "    </tr>\n",
       "  </tbody>\n",
       "</table>\n",
       "</div>"
      ],
      "text/plain": [
       "                model  accuracy(%)  image_size  eopchs  batchsize  \\\n",
       "0        VGG_16_KFold        99.24  (128, 128)     100         64   \n",
       "1              VGG_16        99.28  (128, 128)     100         64   \n",
       "2  googLeNet_Semodule        99.86     (64,64)      50         32   \n",
       "3           ResNet_50        99.55    (64, 64)     100         32   \n",
       "\n",
       "   f1_score(%)  precision_score(%)  \n",
       "0        99.24               99.16  \n",
       "1        97.54               98.13  \n",
       "2        99.18               99.64  \n",
       "3        99.55               99.35  "
      ]
     },
     "execution_count": 2,
     "metadata": {},
     "output_type": "execute_result"
    }
   ],
   "source": [
    "df = pd.read_csv('./models.csv')\n",
    "df"
   ]
  },
  {
   "cell_type": "code",
   "execution_count": null,
   "metadata": {},
   "outputs": [],
   "source": []
  }
 ],
 "metadata": {
  "kernelspec": {
   "display_name": "Python 3",
   "language": "python",
   "name": "python3"
  },
  "language_info": {
   "codemirror_mode": {
    "name": "ipython",
    "version": 3
   },
   "file_extension": ".py",
   "mimetype": "text/x-python",
   "name": "python",
   "nbconvert_exporter": "python",
   "pygments_lexer": "ipython3",
   "version": "3.9.13"
  },
  "orig_nbformat": 4
 },
 "nbformat": 4,
 "nbformat_minor": 2
}
