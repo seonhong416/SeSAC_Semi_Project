{
 "cells": [
  {
   "cell_type": "code",
   "execution_count": 17,
   "metadata": {},
   "outputs": [
    {
     "name": "stdout",
     "output_type": "stream",
     "text": [
      "Collecting xmltodict\n",
      "  Downloading xmltodict-0.13.0-py2.py3-none-any.whl (10.0 kB)\n",
      "Installing collected packages: xmltodict\n",
      "Successfully installed xmltodict-0.13.0\n"
     ]
    }
   ],
   "source": [
    "!pip install xmltodict"
   ]
  },
  {
   "cell_type": "code",
   "execution_count": 8,
   "metadata": {},
   "outputs": [
    {
     "name": "stdout",
     "output_type": "stream",
     "text": [
      "Collecting opencv-python\n",
      "  Downloading opencv_python-4.7.0.72-cp37-abi3-win_amd64.whl (38.2 MB)\n",
      "     ---------------------------------------- 38.2/38.2 MB 8.6 MB/s eta 0:00:00\n",
      "Requirement already satisfied: numpy>=1.17.3 in c:\\users\\user\\anaconda3\\lib\\site-packages (from opencv-python) (1.21.5)\n",
      "Installing collected packages: opencv-python\n",
      "Successfully installed opencv-python-4.7.0.72\n"
     ]
    }
   ],
   "source": [
    "!pip install opencv-python"
   ]
  },
  {
   "cell_type": "code",
   "execution_count": 2,
   "metadata": {},
   "outputs": [
    {
     "data": {
      "text/plain": [
       "'2.10.1'"
      ]
     },
     "execution_count": 2,
     "metadata": {},
     "output_type": "execute_result"
    }
   ],
   "source": [
    "import tensorflow as tf\n",
    "tf.__version__"
   ]
  },
  {
   "cell_type": "code",
   "execution_count": 1,
   "metadata": {},
   "outputs": [],
   "source": [
    "import numpy as np\n",
    "import pandas as pd\n",
    "from tensorflow.keras.preprocessing.image import load_img, img_to_array\n",
    "\n",
    "from PIL import Image\n",
    "import os\n",
    "import matplotlib.pyplot as plt\n",
    "import matplotlib.image as mpimg\n",
    "import glob\n",
    "import cv2\n",
    "import xmltodict\n",
    "import json"
   ]
  },
  {
   "cell_type": "code",
   "execution_count": 3,
   "metadata": {},
   "outputs": [
    {
     "data": {
      "text/html": [
       "<div>\n",
       "<style scoped>\n",
       "    .dataframe tbody tr th:only-of-type {\n",
       "        vertical-align: middle;\n",
       "    }\n",
       "\n",
       "    .dataframe tbody tr th {\n",
       "        vertical-align: top;\n",
       "    }\n",
       "\n",
       "    .dataframe thead th {\n",
       "        text-align: right;\n",
       "    }\n",
       "</style>\n",
       "<table border=\"1\" class=\"dataframe\">\n",
       "  <thead>\n",
       "    <tr style=\"text-align: right;\">\n",
       "      <th></th>\n",
       "      <th>folder</th>\n",
       "      <th>filename</th>\n",
       "      <th>width</th>\n",
       "      <th>height</th>\n",
       "      <th>depth</th>\n",
       "      <th>segmented</th>\n",
       "      <th>name</th>\n",
       "      <th>pose</th>\n",
       "      <th>truncated</th>\n",
       "      <th>occluded</th>\n",
       "      <th>difficult</th>\n",
       "      <th>bndbox</th>\n",
       "    </tr>\n",
       "  </thead>\n",
       "  <tbody>\n",
       "    <tr>\n",
       "      <th>0</th>\n",
       "      <td>images</td>\n",
       "      <td>None</td>\n",
       "      <td>NaN</td>\n",
       "      <td>NaN</td>\n",
       "      <td>NaN</td>\n",
       "      <td>NaN</td>\n",
       "      <td>None</td>\n",
       "      <td>None</td>\n",
       "      <td>NaN</td>\n",
       "      <td>NaN</td>\n",
       "      <td>NaN</td>\n",
       "      <td>NaN</td>\n",
       "    </tr>\n",
       "    <tr>\n",
       "      <th>1</th>\n",
       "      <td>None</td>\n",
       "      <td>BikesHelmets0.png</td>\n",
       "      <td>NaN</td>\n",
       "      <td>NaN</td>\n",
       "      <td>NaN</td>\n",
       "      <td>NaN</td>\n",
       "      <td>None</td>\n",
       "      <td>None</td>\n",
       "      <td>NaN</td>\n",
       "      <td>NaN</td>\n",
       "      <td>NaN</td>\n",
       "      <td>NaN</td>\n",
       "    </tr>\n",
       "    <tr>\n",
       "      <th>2</th>\n",
       "      <td>None</td>\n",
       "      <td>None</td>\n",
       "      <td>400.0</td>\n",
       "      <td>267.0</td>\n",
       "      <td>3.0</td>\n",
       "      <td>NaN</td>\n",
       "      <td>None</td>\n",
       "      <td>None</td>\n",
       "      <td>NaN</td>\n",
       "      <td>NaN</td>\n",
       "      <td>NaN</td>\n",
       "      <td>NaN</td>\n",
       "    </tr>\n",
       "    <tr>\n",
       "      <th>3</th>\n",
       "      <td>None</td>\n",
       "      <td>None</td>\n",
       "      <td>NaN</td>\n",
       "      <td>NaN</td>\n",
       "      <td>NaN</td>\n",
       "      <td>0.0</td>\n",
       "      <td>None</td>\n",
       "      <td>None</td>\n",
       "      <td>NaN</td>\n",
       "      <td>NaN</td>\n",
       "      <td>NaN</td>\n",
       "      <td>NaN</td>\n",
       "    </tr>\n",
       "    <tr>\n",
       "      <th>4</th>\n",
       "      <td>None</td>\n",
       "      <td>None</td>\n",
       "      <td>NaN</td>\n",
       "      <td>NaN</td>\n",
       "      <td>NaN</td>\n",
       "      <td>NaN</td>\n",
       "      <td>With Helmet</td>\n",
       "      <td>Unspecified</td>\n",
       "      <td>0.0</td>\n",
       "      <td>0.0</td>\n",
       "      <td>0.0</td>\n",
       "      <td>NaN</td>\n",
       "    </tr>\n",
       "    <tr>\n",
       "      <th>5</th>\n",
       "      <td>None</td>\n",
       "      <td>None</td>\n",
       "      <td>NaN</td>\n",
       "      <td>NaN</td>\n",
       "      <td>NaN</td>\n",
       "      <td>NaN</td>\n",
       "      <td>With Helmet</td>\n",
       "      <td>Unspecified</td>\n",
       "      <td>0.0</td>\n",
       "      <td>0.0</td>\n",
       "      <td>0.0</td>\n",
       "      <td>NaN</td>\n",
       "    </tr>\n",
       "    <tr>\n",
       "      <th>6</th>\n",
       "      <td>None</td>\n",
       "      <td>None</td>\n",
       "      <td>NaN</td>\n",
       "      <td>NaN</td>\n",
       "      <td>NaN</td>\n",
       "      <td>NaN</td>\n",
       "      <td>With Helmet</td>\n",
       "      <td>Unspecified</td>\n",
       "      <td>0.0</td>\n",
       "      <td>0.0</td>\n",
       "      <td>0.0</td>\n",
       "      <td>NaN</td>\n",
       "    </tr>\n",
       "    <tr>\n",
       "      <th>7</th>\n",
       "      <td>None</td>\n",
       "      <td>None</td>\n",
       "      <td>NaN</td>\n",
       "      <td>NaN</td>\n",
       "      <td>NaN</td>\n",
       "      <td>NaN</td>\n",
       "      <td>With Helmet</td>\n",
       "      <td>Unspecified</td>\n",
       "      <td>0.0</td>\n",
       "      <td>0.0</td>\n",
       "      <td>0.0</td>\n",
       "      <td>NaN</td>\n",
       "    </tr>\n",
       "  </tbody>\n",
       "</table>\n",
       "</div>"
      ],
      "text/plain": [
       "   folder           filename  width  height  depth  segmented         name  \\\n",
       "0  images               None    NaN     NaN    NaN        NaN         None   \n",
       "1    None  BikesHelmets0.png    NaN     NaN    NaN        NaN         None   \n",
       "2    None               None  400.0   267.0    3.0        NaN         None   \n",
       "3    None               None    NaN     NaN    NaN        0.0         None   \n",
       "4    None               None    NaN     NaN    NaN        NaN  With Helmet   \n",
       "5    None               None    NaN     NaN    NaN        NaN  With Helmet   \n",
       "6    None               None    NaN     NaN    NaN        NaN  With Helmet   \n",
       "7    None               None    NaN     NaN    NaN        NaN  With Helmet   \n",
       "\n",
       "          pose  truncated  occluded  difficult  bndbox  \n",
       "0         None        NaN       NaN        NaN     NaN  \n",
       "1         None        NaN       NaN        NaN     NaN  \n",
       "2         None        NaN       NaN        NaN     NaN  \n",
       "3         None        NaN       NaN        NaN     NaN  \n",
       "4  Unspecified        0.0       0.0        0.0     NaN  \n",
       "5  Unspecified        0.0       0.0        0.0     NaN  \n",
       "6  Unspecified        0.0       0.0        0.0     NaN  \n",
       "7  Unspecified        0.0       0.0        0.0     NaN  "
      ]
     },
     "execution_count": 3,
     "metadata": {},
     "output_type": "execute_result"
    }
   ],
   "source": [
    "pd.read_xml('../Semi_Data/annotations/BikesHelmets0.xml')"
   ]
  },
  {
   "cell_type": "code",
   "execution_count": 7,
   "metadata": {},
   "outputs": [
    {
     "name": "stdout",
     "output_type": "stream",
     "text": [
      "Collecting xmltodict\n",
      "  Using cached xmltodict-0.13.0-py2.py3-none-any.whl (10.0 kB)\n",
      "Installing collected packages: xmltodict\n",
      "Successfully installed xmltodict-0.13.0\n",
      "Note: you may need to restart the kernel to use updated packages.\n"
     ]
    }
   ],
   "source": [
    "pip install xmltodict"
   ]
  },
  {
   "cell_type": "code",
   "execution_count": 14,
   "metadata": {},
   "outputs": [],
   "source": [
    "# import json\n",
    "# import xmltodict\n",
    "\n",
    "# ## xml 파일을 json 파일로 변환\n",
    "\n",
    "# for i in range(766) :\n",
    "#     try :\n",
    "#         with open(f\"../Semi_Data/annotations/BikesHelmets{i}.xml\",'r') as f:\n",
    "#             xmlString = f.read()\n",
    "            \n",
    "#         jsonString = json.dumps(xmltodict.parse(xmlString), indent=4)\n",
    "        \n",
    "#         with open(f\"../Semi_Data/annotation/BikesHelmets{i}.json\", 'w') as f:\n",
    "#             f.write(jsonString)\n",
    "#     except :\n",
    "#         pass"
   ]
  },
  {
   "cell_type": "code",
   "execution_count": 10,
   "metadata": {},
   "outputs": [
    {
     "data": {
      "text/plain": [
       "(267, 400, 3)"
      ]
     },
     "execution_count": 10,
     "metadata": {},
     "output_type": "execute_result"
    }
   ],
   "source": [
    "import cv2\n",
    "\n",
    "# 이미지 로드\n",
    "image = cv2.imread('../Semi_Data/images/BikesHelmets0.png')\n",
    "# image.shape\n",
    "# 이미지 크기 조정\n",
    "image = cv2.resize(image, (416, 416))\n",
    "\n",
    "cv2.imwrite('./practice.png', image)\n",
    "# 픽셀 값 정규화\n",
    "image = image.astype('float32')/255.0\n",
    "\n",
    "# YOLO 모델 입력 데이터 형식으로 변환\n",
    "image = cv2.cvtColor(image, cv2.COLOR_BGR2RGB)\n",
    "image = np.expand_dims(image, axis = 0) # 이미지 배열의 차원을 하나 추가해서 (1, height, width, channels) 형식으로 변환"
   ]
  },
  {
   "cell_type": "code",
   "execution_count": 43,
   "metadata": {},
   "outputs": [],
   "source": [
    "import cv2\n",
    "import json\n",
    "\n",
    "for i in range(766) :\n",
    "    try :\n",
    "        # json 파일에서 bndbox 정보 추출\n",
    "        with open(f'../Semi_Data/annotation/BikesHelmets{i}.json', 'r') as f:\n",
    "            label = json.load(f)\n",
    "\n",
    "        bndboxes = []\n",
    "        for obj in label['annotation']['object']:\n",
    "            bndbox = obj['bndbox']\n",
    "            xmin = int(bndbox['xmin'])\n",
    "            ymin = int(bndbox['ymin'])\n",
    "            xmax = int(bndbox['xmax'])\n",
    "            ymax = int(bndbox['ymax'])\n",
    "            bndboxes.append((xmin, ymin, xmax, ymax))\n",
    "\n",
    "        # 이미지 로드\n",
    "        img = cv2.imread(f'../Semi_Data/images/BikesHelmets{i}.png')\n",
    "\n",
    "        # 경계 상자 그리기\n",
    "        for bndbox in bndboxes:\n",
    "            cv2.rectangle(img, (bndbox[0], bndbox[1]), (bndbox[2], bndbox[3]), (0, 255, 0), 2)\n",
    "\n",
    "        # 이미지 저장\n",
    "        cv2.imwrite(f'../Semi_Data/bounded_images/BikeHelmets{i}.png', img) # 저장할 경로 입력\n",
    "    except :\n",
    "        try :\n",
    "            with open(f'../Semi_Data/annotation/BikesHelmets{i}.json', 'r') as f:\n",
    "                label = json.load(f)\n",
    "            \n",
    "            bndboxes = []\n",
    "            bndbox = label['annotation']['object']['bndbox']\n",
    "            xmin = int(bndbox['xmin'])\n",
    "            ymin = int(bndbox['ymin'])\n",
    "            xmax = int(bndbox['xmax'])\n",
    "            ymax = int(bndbox['ymax'])\n",
    "            bndboxes.append((xmin, ymin, xmax, ymax))\n",
    "            \n",
    "            img = cv2.imread(f'../Semi_Data/images/BikesHelmets{i}.png')\n",
    "\n",
    "        # 경계 상자 그리기\n",
    "            for bndbox in bndboxes:\n",
    "                cv2.rectangle(img, (bndbox[0], bndbox[1]), (bndbox[2], bndbox[3]), (0, 255, 0), 2)\n",
    "\n",
    "            # 이미지 저장\n",
    "            cv2.imwrite(f'../Semi_Data/bounded_images/BikeHelmets{i}.png', img) # 저장할 경로 입력\n",
    "            \n",
    "        except :\n",
    "            pass\n",
    "        \n"
   ]
  },
  {
   "cell_type": "code",
   "execution_count": 17,
   "metadata": {},
   "outputs": [],
   "source": [
    "def save_data(file_path, image_save_path, label_save_path, save_file_index) :\n",
    "    \n",
    "    idx = save_file_index\n",
    "    \n",
    "    # file path에 있는 파일들 리스트로 담기\n",
    "    file_list = os.listdir(file_path)\n",
    "    \n",
    "    # 파일이름에 .png가 있으면 image_list에 담기\n",
    "    image_list = [i for i in file_list if '.png' in i]\n",
    "    \n",
    "    # 파일이름에 .xml이 있으면 label_list에 담기\n",
    "    label_list = [i for i in file_list if '.xml' in i]\n",
    "    \n",
    "    \n",
    "    \n",
    "    for image,label in zip(image_list, label_list) : \n",
    "        # image 로드\n",
    "        img = cv2.imread(file_path + image)\n",
    "        \n",
    "        # 이미지 저장\n",
    "        cv2.imwrite(image_save_path + f'helmet_img_{idx}.png', img) # 저장할 경로 입력\n",
    "        \n",
    "        # xml 파일 json으로 바꿔서 저장하기    \n",
    "    \n",
    "        with open(file_path + label,'r',encoding='UTF8') as f:\n",
    "            xmlString = f.read()\n",
    "            \n",
    "        jsonString = json.dumps(xmltodict.parse(xmlString), indent=4)\n",
    "        \n",
    "        with open(label_save_path + f'helmet_label_{idx}.json', 'w') as f:\n",
    "            f.write(jsonString)\n",
    "    \n",
    "        idx += 1\n",
    "    \n",
    "    print(f'마지막 파일 idx는 {idx - 1}입니다.')\n",
    "   "
   ]
  },
  {
   "cell_type": "code",
   "execution_count": 26,
   "metadata": {},
   "outputs": [
    {
     "name": "stdout",
     "output_type": "stream",
     "text": [
      "마지막 파일 idx는 99입니다.\n"
     ]
    }
   ],
   "source": [
    "# save_data('./Data/helmet datas/With Helmet/','./Data/helmet_image/', './Data/helmet_label/', 0)"
   ]
  },
  {
   "cell_type": "code",
   "execution_count": 27,
   "metadata": {},
   "outputs": [
    {
     "name": "stdout",
     "output_type": "stream",
     "text": [
      "마지막 파일 idx는 199입니다.\n"
     ]
    }
   ],
   "source": [
    "# save_data('./Data/helmet datas/Without Helmet/','./Data/helmet_image/', './Data/helmet_label/', 100)"
   ]
  },
  {
   "cell_type": "code",
   "execution_count": 47,
   "metadata": {},
   "outputs": [
    {
     "name": "stdout",
     "output_type": "stream",
     "text": [
      "마지막 파일 idx는 299입니다.\n"
     ]
    }
   ],
   "source": [
    "# save_data('./Data/helmet_YB/With_Helmet_image/','./Data/helmet_image/', './Data/helmet_label/', 200)"
   ]
  },
  {
   "cell_type": "code",
   "execution_count": 48,
   "metadata": {},
   "outputs": [
    {
     "name": "stdout",
     "output_type": "stream",
     "text": [
      "마지막 파일 idx는 399입니다.\n"
     ]
    }
   ],
   "source": [
    "# save_data('./Data/helmet_YB/Without_Helmet_image/','./Data/helmet_image/', './Data/helmet_label/', 300)"
   ]
  },
  {
   "cell_type": "code",
   "execution_count": 49,
   "metadata": {},
   "outputs": [
    {
     "name": "stdout",
     "output_type": "stream",
     "text": [
      "마지막 파일 idx는 1123입니다.\n"
     ]
    }
   ],
   "source": [
    "# save_data('./Data/kaggle_image_resize/','./Data/helmet_image/', './Data/helmet_label/', 400)"
   ]
  },
  {
   "cell_type": "code",
   "execution_count": 50,
   "metadata": {},
   "outputs": [
    {
     "name": "stdout",
     "output_type": "stream",
     "text": [
      "마지막 파일 idx는 1326입니다.\n"
     ]
    }
   ],
   "source": [
    "# save_data('./Data/withouthelmet_resize/','./Data/helmet_image/', './Data/helmet_label/', 1124)"
   ]
  },
  {
   "cell_type": "code",
   "execution_count": 18,
   "metadata": {},
   "outputs": [
    {
     "name": "stdout",
     "output_type": "stream",
     "text": [
      "마지막 파일 idx는 1783입니다.\n"
     ]
    }
   ],
   "source": [
    "save_data('./data/without_helmet_add_resize/','./data/helmet_image/', './data/helmet_label/', 1327)"
   ]
  },
  {
   "cell_type": "code",
   "execution_count": 20,
   "metadata": {},
   "outputs": [],
   "source": [
    "# 이미지를 자르고 저장하는 함수\n",
    "def cut_image(json_path, image_path) : \n",
    "    \n",
    "    with_idx = 0\n",
    "    without_idx = 0\n",
    "    json_file = os.listdir(json_path)\n",
    "    image_file = os.listdir(image_path)\n",
    "    n = len(image_file)\n",
    "    \n",
    "    for i in range(n) :\n",
    "        try :\n",
    "            # json 파일에서 bndbox 정보 추출\n",
    "            with open(json_path + json_file[i], 'r') as f:\n",
    "                label = json.load(f)\n",
    "            \n",
    "            bndboxes = []\n",
    "                            \n",
    "            for obj in label['annotation']['object']:\n",
    "                bndbox = obj['bndbox']\n",
    "                img_l = obj['name']\n",
    "                xmin = int(bndbox['xmin'])\n",
    "                ymin = int(bndbox['ymin'])\n",
    "                xmax = int(bndbox['xmax'])\n",
    "                ymax = int(bndbox['ymax'])\n",
    "                bndboxes.append((xmin, ymin, xmax, ymax, img_l))\n",
    "            # print('clear')\n",
    "            # 이미지 자르기\n",
    "            for bndbox in bndboxes:\n",
    "                try : \n",
    "                    # 이미지 로드\n",
    "                    img = Image.open(image_path + image_file[i])\n",
    "                    image = img.crop((bndbox[0], bndbox[1], bndbox[2], bndbox[3]))\n",
    "                    # 이미지 저장\n",
    "                    if bndbox[4] == 'With Helmet' :\n",
    "                        image.save(f'./data/with_helmet/with_helmet_{with_idx}.png') # 저장할 경로 입력\n",
    "                        with_idx += 1\n",
    "                    \n",
    "                    else :\n",
    "                        image.save(f'./data/without_helmet/without_helmet_{without_idx}.png')\n",
    "                        without_idx += 1\n",
    "                except :\n",
    "                    print(json_file[i])\n",
    "        except :\n",
    "            try :\n",
    "                with open(json_path + json_file[i], 'r') as f:\n",
    "                    label = json.load(f)\n",
    "                \n",
    "                bndbox = label['annotation']['object']['bndbox']\n",
    "                img_l = label['annotation']['object']['name']\n",
    "                xmin = int(bndbox['xmin'])\n",
    "                ymin = int(bndbox['ymin'])\n",
    "                xmax = int(bndbox['xmax'])\n",
    "                ymax = int(bndbox['ymax'])\n",
    "            \n",
    "                \n",
    "                # 이미지 자르기\n",
    "                \n",
    "                # 이미지 로드\n",
    "                img = Image.open(image_path + image_file[i])\n",
    "                image = img.crop((xmin, ymin, xmax, ymax))\n",
    "                \n",
    "                if img_l == 'With Helmet' :\n",
    "                    image.save(f'./data/with_helmet/with_helmet_{with_idx}.png') # 저장할 경로 입력\n",
    "                    with_idx += 1\n",
    "                \n",
    "                else :\n",
    "                    image.save(f'./data/without_helmet/without_helmet_{without_idx}.png')\n",
    "                    without_idx += 1\n",
    "            except :\n",
    "                pass\n",
    "\n",
    "    "
   ]
  },
  {
   "cell_type": "code",
   "execution_count": 21,
   "metadata": {},
   "outputs": [],
   "source": [
    "image_label = cut_image('./data/helmet_label/', './data/helmet_image/')"
   ]
  },
  {
   "cell_type": "code",
   "execution_count": null,
   "metadata": {},
   "outputs": [],
   "source": [
    "fiel_list = os.listdir('./Data/cut_image/')"
   ]
  },
  {
   "cell_type": "code",
   "execution_count": 3,
   "metadata": {},
   "outputs": [],
   "source": [
    "# 이미지 사이즈 조절하여 저장 하는 함수\n",
    "\n",
    "def img_resize_save(img_path, save_path, image_shape) :\n",
    "    img_list = os.listdir(img_path)\n",
    "    count = 0\n",
    "    \n",
    "    if not os.path.exists(save_path) :\n",
    "        os.mkdir(save_path)\n",
    "        \n",
    "    for img in img_list :\n",
    "        image = cv2.imread(img_path + img)\n",
    "        \n",
    "        image = cv2.resize(image, image_shape)\n",
    "        \n",
    "        cv2.imwrite(save_path+img, image)\n",
    "        count += 1\n"
   ]
  },
  {
   "cell_type": "code",
   "execution_count": 6,
   "metadata": {},
   "outputs": [],
   "source": [
    "img_resize_save('./data/with_helmet_resize_128/','./data/with_helmet_resize_64/',(64, 64))"
   ]
  },
  {
   "cell_type": "code",
   "execution_count": 7,
   "metadata": {},
   "outputs": [],
   "source": [
    "img_resize_save('./data/without_helmet_resize_128/','./data/without_helmet_resize_64/',(64, 64))"
   ]
  },
  {
   "cell_type": "code",
   "execution_count": 59,
   "metadata": {},
   "outputs": [],
   "source": [
    "img_resize_save('./Data/cut_image/', './Data/cut_image_resize/')\n"
   ]
  },
  {
   "cell_type": "code",
   "execution_count": 13,
   "metadata": {},
   "outputs": [],
   "source": [
    "img_resize_save('./data/with_helmet_gen/', './data/with_helmet_resize_128/', (128, 128))"
   ]
  },
  {
   "cell_type": "code",
   "execution_count": 24,
   "metadata": {},
   "outputs": [],
   "source": [
    "img_resize_save('./data/without_helmet_add_gen/', './data/without_helmet_resize_128/', (128, 128))"
   ]
  },
  {
   "cell_type": "code",
   "execution_count": 61,
   "metadata": {},
   "outputs": [],
   "source": [
    "file_list = os.listdir('./Data/cut_image_resize/')\n",
    "df = pd.DataFrame([file_list, image_label])"
   ]
  },
  {
   "cell_type": "code",
   "execution_count": 63,
   "metadata": {},
   "outputs": [],
   "source": [
    "df = df.T"
   ]
  },
  {
   "cell_type": "code",
   "execution_count": 65,
   "metadata": {},
   "outputs": [
    {
     "data": {
      "text/html": [
       "<div>\n",
       "<style scoped>\n",
       "    .dataframe tbody tr th:only-of-type {\n",
       "        vertical-align: middle;\n",
       "    }\n",
       "\n",
       "    .dataframe tbody tr th {\n",
       "        vertical-align: top;\n",
       "    }\n",
       "\n",
       "    .dataframe thead th {\n",
       "        text-align: right;\n",
       "    }\n",
       "</style>\n",
       "<table border=\"1\" class=\"dataframe\">\n",
       "  <thead>\n",
       "    <tr style=\"text-align: right;\">\n",
       "      <th></th>\n",
       "      <th>file_name</th>\n",
       "      <th>label</th>\n",
       "    </tr>\n",
       "  </thead>\n",
       "  <tbody>\n",
       "    <tr>\n",
       "      <th>0</th>\n",
       "      <td>cut_helmet_0.png</td>\n",
       "      <td>With Helmet</td>\n",
       "    </tr>\n",
       "    <tr>\n",
       "      <th>1</th>\n",
       "      <td>cut_helmet_1.png</td>\n",
       "      <td>With Helmet</td>\n",
       "    </tr>\n",
       "    <tr>\n",
       "      <th>2</th>\n",
       "      <td>cut_helmet_10.png</td>\n",
       "      <td>With Helmet</td>\n",
       "    </tr>\n",
       "    <tr>\n",
       "      <th>3</th>\n",
       "      <td>cut_helmet_100.png</td>\n",
       "      <td>Without Helmet</td>\n",
       "    </tr>\n",
       "    <tr>\n",
       "      <th>4</th>\n",
       "      <td>cut_helmet_1000.png</td>\n",
       "      <td>Without Helmet</td>\n",
       "    </tr>\n",
       "    <tr>\n",
       "      <th>...</th>\n",
       "      <td>...</td>\n",
       "      <td>...</td>\n",
       "    </tr>\n",
       "    <tr>\n",
       "      <th>2064</th>\n",
       "      <td>cut_helmet_995.png</td>\n",
       "      <td>Without Helmet</td>\n",
       "    </tr>\n",
       "    <tr>\n",
       "      <th>2065</th>\n",
       "      <td>cut_helmet_996.png</td>\n",
       "      <td>Without Helmet</td>\n",
       "    </tr>\n",
       "    <tr>\n",
       "      <th>2066</th>\n",
       "      <td>cut_helmet_997.png</td>\n",
       "      <td>Without Helmet</td>\n",
       "    </tr>\n",
       "    <tr>\n",
       "      <th>2067</th>\n",
       "      <td>cut_helmet_998.png</td>\n",
       "      <td>With Helmet</td>\n",
       "    </tr>\n",
       "    <tr>\n",
       "      <th>2068</th>\n",
       "      <td>cut_helmet_999.png</td>\n",
       "      <td>With Helmet</td>\n",
       "    </tr>\n",
       "  </tbody>\n",
       "</table>\n",
       "<p>2069 rows × 2 columns</p>\n",
       "</div>"
      ],
      "text/plain": [
       "                file_name           label\n",
       "0        cut_helmet_0.png     With Helmet\n",
       "1        cut_helmet_1.png     With Helmet\n",
       "2       cut_helmet_10.png     With Helmet\n",
       "3      cut_helmet_100.png  Without Helmet\n",
       "4     cut_helmet_1000.png  Without Helmet\n",
       "...                   ...             ...\n",
       "2064   cut_helmet_995.png  Without Helmet\n",
       "2065   cut_helmet_996.png  Without Helmet\n",
       "2066   cut_helmet_997.png  Without Helmet\n",
       "2067   cut_helmet_998.png     With Helmet\n",
       "2068   cut_helmet_999.png     With Helmet\n",
       "\n",
       "[2069 rows x 2 columns]"
      ]
     },
     "execution_count": 65,
     "metadata": {},
     "output_type": "execute_result"
    }
   ],
   "source": [
    "df.columns = ['file_name', 'label']\n",
    "df"
   ]
  },
  {
   "cell_type": "code",
   "execution_count": 66,
   "metadata": {},
   "outputs": [],
   "source": [
    "df.to_csv('./label.csv', index = False)"
   ]
  },
  {
   "cell_type": "code",
   "execution_count": 2,
   "metadata": {},
   "outputs": [],
   "source": [
    "def BW_image(img_path, save_path) :\n",
    "    file_list = os.listdir(img_path)\n",
    "    for img in file_list :\n",
    "        color_image = Image.open(img_path + img)\n",
    "        \n",
    "        gray_image = color_image.convert('L')\n",
    "        \n",
    "        gray_image.save(save_path + img)"
   ]
  },
  {
   "cell_type": "code",
   "execution_count": 3,
   "metadata": {},
   "outputs": [],
   "source": [
    "BW_image('./data/with_helmet_resize/', './data/with_helmet_BW/')"
   ]
  },
  {
   "cell_type": "code",
   "execution_count": 4,
   "metadata": {},
   "outputs": [],
   "source": [
    "BW_image('./data/without_helmet_resize/', './data/without_helmet_BW/')"
   ]
  },
  {
   "cell_type": "code",
   "execution_count": null,
   "metadata": {},
   "outputs": [],
   "source": []
  }
 ],
 "metadata": {
  "kernelspec": {
   "display_name": "base",
   "language": "python",
   "name": "python3"
  },
  "language_info": {
   "codemirror_mode": {
    "name": "ipython",
    "version": 3
   },
   "file_extension": ".py",
   "mimetype": "text/x-python",
   "name": "python",
   "nbconvert_exporter": "python",
   "pygments_lexer": "ipython3",
   "version": "3.9.13"
  },
  "orig_nbformat": 4,
  "vscode": {
   "interpreter": {
    "hash": "263930470851f494f0ed2879c35b57985588df20f9e529b86e97dd5eb9ddc466"
   }
  }
 },
 "nbformat": 4,
 "nbformat_minor": 2
}
