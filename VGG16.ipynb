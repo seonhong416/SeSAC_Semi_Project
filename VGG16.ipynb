{
 "cells": [
  {
   "cell_type": "code",
   "execution_count": 3,
   "metadata": {},
   "outputs": [],
   "source": [
    "import numpy as np\n",
    "import pandas as pd\n",
    "import matplotlib.pyplot as plt\n",
    "\n",
    "import keras\n",
    "import tensorflow as tf\n",
    "\n",
    "from tensorflow.keras.layers import Conv2D, Dense, MaxPooling2D, Flatten, Dropout\n",
    "from tensorflow. keras.models import Sequential\n",
    "\n",
    "# 체크포인트를 만드는 라이브러리 부분 임포트\n",
    "from tensorflow.keras.callbacks import ModelCheckpoint\n",
    "\n",
    "import os"
   ]
  },
  {
   "cell_type": "code",
   "execution_count": 2,
   "metadata": {},
   "outputs": [
    {
     "data": {
      "text/html": [
       "<div>\n",
       "<style scoped>\n",
       "    .dataframe tbody tr th:only-of-type {\n",
       "        vertical-align: middle;\n",
       "    }\n",
       "\n",
       "    .dataframe tbody tr th {\n",
       "        vertical-align: top;\n",
       "    }\n",
       "\n",
       "    .dataframe thead th {\n",
       "        text-align: right;\n",
       "    }\n",
       "</style>\n",
       "<table border=\"1\" class=\"dataframe\">\n",
       "  <thead>\n",
       "    <tr style=\"text-align: right;\">\n",
       "      <th></th>\n",
       "      <th>file_name</th>\n",
       "      <th>label</th>\n",
       "    </tr>\n",
       "  </thead>\n",
       "  <tbody>\n",
       "    <tr>\n",
       "      <th>0</th>\n",
       "      <td>cut_helmet_0.png</td>\n",
       "      <td>With Helmet</td>\n",
       "    </tr>\n",
       "    <tr>\n",
       "      <th>1</th>\n",
       "      <td>cut_helmet_1.png</td>\n",
       "      <td>With Helmet</td>\n",
       "    </tr>\n",
       "    <tr>\n",
       "      <th>2</th>\n",
       "      <td>cut_helmet_10.png</td>\n",
       "      <td>With Helmet</td>\n",
       "    </tr>\n",
       "    <tr>\n",
       "      <th>3</th>\n",
       "      <td>cut_helmet_100.png</td>\n",
       "      <td>Without Helmet</td>\n",
       "    </tr>\n",
       "    <tr>\n",
       "      <th>4</th>\n",
       "      <td>cut_helmet_1000.png</td>\n",
       "      <td>Without Helmet</td>\n",
       "    </tr>\n",
       "    <tr>\n",
       "      <th>...</th>\n",
       "      <td>...</td>\n",
       "      <td>...</td>\n",
       "    </tr>\n",
       "    <tr>\n",
       "      <th>2064</th>\n",
       "      <td>cut_helmet_995.png</td>\n",
       "      <td>Without Helmet</td>\n",
       "    </tr>\n",
       "    <tr>\n",
       "      <th>2065</th>\n",
       "      <td>cut_helmet_996.png</td>\n",
       "      <td>Without Helmet</td>\n",
       "    </tr>\n",
       "    <tr>\n",
       "      <th>2066</th>\n",
       "      <td>cut_helmet_997.png</td>\n",
       "      <td>Without Helmet</td>\n",
       "    </tr>\n",
       "    <tr>\n",
       "      <th>2067</th>\n",
       "      <td>cut_helmet_998.png</td>\n",
       "      <td>With Helmet</td>\n",
       "    </tr>\n",
       "    <tr>\n",
       "      <th>2068</th>\n",
       "      <td>cut_helmet_999.png</td>\n",
       "      <td>With Helmet</td>\n",
       "    </tr>\n",
       "  </tbody>\n",
       "</table>\n",
       "<p>2069 rows × 2 columns</p>\n",
       "</div>"
      ],
      "text/plain": [
       "                file_name           label\n",
       "0        cut_helmet_0.png     With Helmet\n",
       "1        cut_helmet_1.png     With Helmet\n",
       "2       cut_helmet_10.png     With Helmet\n",
       "3      cut_helmet_100.png  Without Helmet\n",
       "4     cut_helmet_1000.png  Without Helmet\n",
       "...                   ...             ...\n",
       "2064   cut_helmet_995.png  Without Helmet\n",
       "2065   cut_helmet_996.png  Without Helmet\n",
       "2066   cut_helmet_997.png  Without Helmet\n",
       "2067   cut_helmet_998.png     With Helmet\n",
       "2068   cut_helmet_999.png     With Helmet\n",
       "\n",
       "[2069 rows x 2 columns]"
      ]
     },
     "execution_count": 2,
     "metadata": {},
     "output_type": "execute_result"
    }
   ],
   "source": [
    "df = pd.read_csv('./data/label.csv')\n",
    "df"
   ]
  },
  {
   "cell_type": "code",
   "execution_count": 6,
   "metadata": {},
   "outputs": [
    {
     "data": {
      "text/plain": [
       "['cut_helmet_0.png',\n",
       " 'cut_helmet_1.png',\n",
       " 'cut_helmet_10.png',\n",
       " 'cut_helmet_100.png',\n",
       " 'cut_helmet_1000.png',\n",
       " 'cut_helmet_1001.png',\n",
       " 'cut_helmet_1002.png',\n",
       " 'cut_helmet_1003.png',\n",
       " 'cut_helmet_1004.png',\n",
       " 'cut_helmet_1005.png']"
      ]
     },
     "execution_count": 6,
     "metadata": {},
     "output_type": "execute_result"
    }
   ],
   "source": [
    "image_list = os.listdir('./data/cut_image_resize/')\n",
    "image_list[:10]"
   ]
  },
  {
   "cell_type": "code",
   "execution_count": null,
   "metadata": {},
   "outputs": [],
   "source": []
  },
  {
   "cell_type": "code",
   "execution_count": null,
   "metadata": {},
   "outputs": [],
   "source": [
    "model = Sequential(name = 'VGG16_custom')\n",
    "\n",
    "model.add(Conv2D(input_shape=(244,244,3), filters = 64, kernel_size = (3,3), activation = 'relu', padding='same'))\n",
    "\n",
    "# 1층\n",
    "model.add(Conv2D(64, (3,3), activation = 'relu', padding = 'same', name='1st_conv1')) # padding 데이터를 압축하는 옵션\n",
    "model.add(Conv2D(64, (3,3), activation = 'relu', padding = 'same', name='1st_conv2'))\n",
    "model.add(MaxPooling2D(pool_size=(2,2), strides=(2,2))) # strides 데이터를 압축하는 옵션\n",
    "\n",
    "# 2층\n",
    "model.add(Conv2D(128, (3,3), activation = 'relu', padding = 'same', name='2nd_conv1'))\n",
    "model.add(Conv2D(128, (3,3), activation = 'relu', padding = 'same', name='2nd_conv2'))\n",
    "model.add(MaxPooling2D(pool_size=(2,2), strides=(2,2)))\n",
    "\n",
    "# 3층\n",
    "model.add(Conv2D(256, (3,3), activation = 'relu', padding = 'same', name='3rd_conv1'))\n",
    "model.add(Conv2D(256, (3,3), activation = 'relu', padding = 'same', name='3rd_conv2'))\n",
    "model.add(Conv2D(256, (3,3), activation = 'relu', padding = 'same', name='3rd_conv3'))\n",
    "model.add(MaxPooling2D(pool_size=(2,2), strides=(2,2)))\n",
    "\n",
    "# 4층\n",
    "model.add(Conv2D(512, (3,3), activation = 'relu', padding = 'same', name='4th_conv1'))\n",
    "model.add(Conv2D(512, (3,3), activation = 'relu', padding = 'same', name='4th_conv2'))\n",
    "model.add(Conv2D(512, (3,3), activation = 'relu', padding = 'same', name='4th_conv3'))\n",
    "model.add(MaxPooling2D(pool_size=(2,2), strides=(2,2)))\n",
    "\n",
    "# 5층\n",
    "model.add(Conv2D(512, (3,3), activation = 'relu', padding = 'same', name='5th_conv1'))\n",
    "model.add(Conv2D(512, (3,3), activation = 'relu', padding = 'same', name='5th_conv2'))\n",
    "model.add(Conv2D(512, (3,3), activation = 'relu', padding = 'same', name='5th_conv3'))\n",
    "model.add(MaxPooling2D(pool_size=(2,2), strides=(2,2)))\n",
    "\n",
    "model.add(Flatten())\n",
    "model.add(Dense(units = 4096, activation = 'relu'))\n",
    "model.add(Dense(units = 4096, activation = 'relu'))\n",
    "model.add(Dense(units = 1000, activation = 'relu'))\n",
    "\n",
    "model.add(Dense(units = 1, activation = 'sigmoid'))"
   ]
  }
 ],
 "metadata": {
  "kernelspec": {
   "display_name": "Python 3",
   "language": "python",
   "name": "python3"
  },
  "language_info": {
   "codemirror_mode": {
    "name": "ipython",
    "version": 3
   },
   "file_extension": ".py",
   "mimetype": "text/x-python",
   "name": "python",
   "nbconvert_exporter": "python",
   "pygments_lexer": "ipython3",
   "version": "3.9.13"
  },
  "orig_nbformat": 4
 },
 "nbformat": 4,
 "nbformat_minor": 2
}
